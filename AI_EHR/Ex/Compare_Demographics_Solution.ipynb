{
  "nbformat": 4,
  "nbformat_minor": 0,
  "metadata": {
    "kernelspec": {
      "display_name": "Python 3",
      "language": "python",
      "name": "python3"
    },
    "language_info": {
      "codemirror_mode": {
        "name": "ipython",
        "version": 3
      },
      "file_extension": ".py",
      "mimetype": "text/x-python",
      "name": "python",
      "nbconvert_exporter": "python",
      "pygments_lexer": "ipython3",
      "version": "3.7.6"
    },
    "colab": {
      "name": "Compare_Demographics_Solution.ipynb",
      "provenance": [],
      "toc_visible": true,
      "include_colab_link": true
    }
  },
  "cells": [
    {
      "cell_type": "markdown",
      "metadata": {
        "id": "view-in-github",
        "colab_type": "text"
      },
      "source": [
        "<a href=\"https://colab.research.google.com/github/anhle/AI-Healthcare/blob/master/AI_EHR/Ex/Compare_Demographics_Solution.ipynb\" target=\"_parent\"><img src=\"https://colab.research.google.com/assets/colab-badge.svg\" alt=\"Open In Colab\"/></a>"
      ]
    },
    {
      "cell_type": "markdown",
      "metadata": {
        "id": "SGeP5baIS_mA",
        "colab_type": "text"
      },
      "source": [
        "# Demographic Analysis"
      ]
    },
    {
      "cell_type": "markdown",
      "metadata": {
        "id": "f7su2iU5S_mB",
        "colab_type": "text"
      },
      "source": [
        "### Dataset \n",
        "Heart Disease Dataset donated to UCI ML Dataset Repository https://archive.ics.uci.edu/ml/datasets/heart+Disease. The authors of the databases have requested that any publications resulting from the use of the data include the names of the principal investigator responsible for the data collection at each institution. They would be:\n",
        "1. Hungarian Institute of Cardiology. Budapest: Andras Janosi, M.D.\n",
        "2. University Hospital, Zurich, Switzerland: William Steinbrunn, M.D.\n",
        "3. University Hospital, Basel, Switzerland: Matthias Pfisterer, M.D.\n",
        "4. V.A. Medical Center, Long Beach and Cleveland Clinic Foundation:Robert Detrano, M.D., Ph.D."
      ]
    },
    {
      "cell_type": "markdown",
      "metadata": {
        "id": "5tUaVcqBS_mC",
        "colab_type": "text"
      },
      "source": [
        "### Exercise Instructions\n",
        "- Given the sex and age demographic fields, visualize the demographic breakdown by stratifying on the predictor label- 'num_label'(HINT: you can use Seaborn's catplot).\n",
        "- Be sure to use the following age group boundaries -0, 18, 25, 39,  54, 65, 90 for creating age bins.\n",
        "- The code below is provided for you to preprocess the dataframe."
      ]
    },
    {
      "cell_type": "code",
      "metadata": {
        "id": "vcJDBbXfS_mC",
        "colab_type": "code",
        "colab": {}
      },
      "source": [
        "import pandas as pd\n",
        "import numpy as np\n",
        "import sklearn\n",
        "import seaborn as sns\n",
        "import matplotlib.pyplot as plt"
      ],
      "execution_count": 0,
      "outputs": []
    },
    {
      "cell_type": "markdown",
      "metadata": {
        "id": "74w3WbNKS_mG",
        "colab_type": "text"
      },
      "source": [
        "### Preprocessing - Analyze different age groups"
      ]
    },
    {
      "cell_type": "code",
      "metadata": {
        "id": "qFHct-NoS_mG",
        "colab_type": "code",
        "colab": {}
      },
      "source": [
        "processed_basel_path = \"https://raw.githubusercontent.com/anhle/AI-Healthcare/master/AI_EHR/Ex/data/processed_swiss.csv\"\n",
        "processed_swiss_df = pd.read_csv(processed_basel_path).replace('?', np.nan)\n",
        "subset_df = processed_swiss_df[processed_swiss_df['num_label'].isin([0, 1])]\n",
        "subset_df['sex'] = subset_df['sex'].replace({1:\"male\", 0:\"female\"})\n",
        "subset_df['num_label'] = subset_df['num_label'].replace({1:\"Positive Label: Diameter Narrowing\", 0:\"Negative Label: Less Diameter Narrowing\"})\n",
        "demo_features = ['sex',  'age', 'num_label' ]\n",
        "demo_df = subset_df[demo_features]"
      ],
      "execution_count": 0,
      "outputs": []
    },
    {
      "cell_type": "markdown",
      "metadata": {
        "id": "VZaaR21aS_mK",
        "colab_type": "text"
      },
      "source": [
        "### Solution"
      ]
    },
    {
      "cell_type": "code",
      "metadata": {
        "id": "CtbD6UWZS_mK",
        "colab_type": "code",
        "colab": {}
      },
      "source": [
        "#convert age to bins\n",
        "age_bins = [0, 18, 25, 39,  54, 65, 90]\n",
        "a_bin = [str(x) for x in age_bins ]\n",
        "age_labels = [\"\".join(x) for x in zip( [x + \" - \" for x in a_bin[:-1]], a_bin[1:])]\n",
        "demo_df['age_bins'] = pd.cut(demo_df['age'], bins=age_bins, labels=age_labels)"
      ],
      "execution_count": 0,
      "outputs": []
    },
    {
      "cell_type": "code",
      "metadata": {
        "id": "i7G1Br0IS_mN",
        "colab_type": "code",
        "colab": {}
      },
      "source": [
        "demo_df.head()"
      ],
      "execution_count": 0,
      "outputs": []
    },
    {
      "cell_type": "markdown",
      "metadata": {
        "id": "AVr3nqh_S_mP",
        "colab_type": "text"
      },
      "source": [
        "### Age Bin Grouping"
      ]
    },
    {
      "cell_type": "code",
      "metadata": {
        "id": "vA7xmgAKS_mQ",
        "colab_type": "code",
        "colab": {}
      },
      "source": [
        "ax = sns.countplot(x=\"age_bins\", data=demo_df)"
      ],
      "execution_count": 0,
      "outputs": []
    },
    {
      "cell_type": "markdown",
      "metadata": {
        "id": "2YGYMRJsS_mS",
        "colab_type": "text"
      },
      "source": [
        "### Age Bin and Gender Grouping"
      ]
    },
    {
      "cell_type": "code",
      "metadata": {
        "id": "fqprq-c9S_mT",
        "colab_type": "code",
        "colab": {}
      },
      "source": [
        "ax = sns.countplot(x=\"age_bins\", hue=\"sex\", data=demo_df)"
      ],
      "execution_count": 0,
      "outputs": []
    },
    {
      "cell_type": "markdown",
      "metadata": {
        "id": "DOFQctPwS_mW",
        "colab_type": "text"
      },
      "source": [
        "### Age Bin and Gender Grouping Stratified by Heart Disease Condition (predictor label)"
      ]
    },
    {
      "cell_type": "code",
      "metadata": {
        "id": "RDc1UuSRS_mW",
        "colab_type": "code",
        "colab": {}
      },
      "source": [
        "g = sns.catplot(x=\"age_bins\", hue=\"sex\", col=\"num_label\",\n",
        "                data=demo_df, kind=\"count\",\n",
        "                height=4, aspect=1.9);"
      ],
      "execution_count": 0,
      "outputs": []
    },
    {
      "cell_type": "code",
      "metadata": {
        "id": "15qJMNsiS_mZ",
        "colab_type": "code",
        "colab": {}
      },
      "source": [
        ""
      ],
      "execution_count": 0,
      "outputs": []
    }
  ]
}