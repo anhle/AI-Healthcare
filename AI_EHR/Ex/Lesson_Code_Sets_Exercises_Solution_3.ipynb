{
  "nbformat": 4,
  "nbformat_minor": 0,
  "metadata": {
    "kernelspec": {
      "display_name": "Python 3",
      "language": "python",
      "name": "python3"
    },
    "language_info": {
      "codemirror_mode": {
        "name": "ipython",
        "version": 3
      },
      "file_extension": ".py",
      "mimetype": "text/x-python",
      "name": "python",
      "nbconvert_exporter": "python",
      "pygments_lexer": "ipython3",
      "version": "3.7.6"
    },
    "colab": {
      "name": "Lesson_Code Sets_Exercises_Solution_3.ipynb",
      "provenance": [],
      "include_colab_link": true
    }
  },
  "cells": [
    {
      "cell_type": "markdown",
      "metadata": {
        "id": "view-in-github",
        "colab_type": "text"
      },
      "source": [
        "<a href=\"https://colab.research.google.com/github/anhle/AI-Healthcare/blob/master/AI_EHR/Ex/Lesson_Code_Sets_Exercises_Solution_3.ipynb\" target=\"_parent\"><img src=\"https://colab.research.google.com/assets/colab-badge.svg\" alt=\"Open In Colab\"/></a>"
      ]
    },
    {
      "cell_type": "markdown",
      "metadata": {
        "id": "iAP3pZz4XFOx",
        "colab_type": "text"
      },
      "source": [
        "## Code Sets Exercise 3: Compare Grouping with CCS - Solution"
      ]
    },
    {
      "cell_type": "markdown",
      "metadata": {
        "id": "-hT_SSsBXFOz",
        "colab_type": "text"
      },
      "source": [
        "### Dataset Source \n",
        "The portal [https://www.hcup-us.ahrq.gov/toolssoftware/ccs10/ccs10.jsp](https://www.hcup-us.ahrq.gov/toolssoftware/ccs10/ccs10.jsp) presents an overview, description, technical guidance, and downloading Information for Clinical Classifications Software (CCS) for ICD-10-PCS (beta version). The CCS is developed as a part of Healthcare Cost and Utilization Project (HCUP). We recommend you to go through each section to understand the data better. \n",
        "\n",
        "\n",
        "### Data Description\n",
        "We have already downloaded the `ccs_pr_icd10pcs_2020_1.zip` file available under the section \"Downloading Information for the CCS for ICD-10-PCS Tool\" in the above portal. We have tweaked the `.csv` file contained inside of the `.zip` file. The updated `.csv` file is provided locally in the current workspace, with the name `clean_ccs_pr_icd10pcs.csv`. \n",
        "\n",
        "\n",
        "The `clean_ccs_pr_icd10pcs.csv` file is composed of the following eight fields separated by commas:\n",
        "1. Procedure Code as 'ICD-10-PCS CODE'\n",
        "1. 'CCS CATEGORY',\n",
        "1. 'ICD-10-PCS CODE DESCRIPTION',\n",
        "1. 'CCS CATEGORY DESCRIPTION',\n",
        "1. Multi-level 1 Category as 'MULTI CCS LVL 1',\n",
        "1. Multi-level 1 Category Description as 'MULTI CCS LVL 1 LABEL',\n",
        "1. Multi-level 2 Category as 'MULTI CCS LVL 2',\n",
        "1. Multi-level 2 Category Description as 'MULTI CCS LVL 2 LABEL'\n",
        "\n",
        "\n",
        "### Exercise\n",
        "1. If you search the CCS_CATEGORY_DESCRIPTION for \"coronary\", what are the two single level categories that you find? What is/are the label(s) for the multi-level 1 categories?\n",
        "\n",
        "\n",
        "2. Given CCS single level category 45, what do you notice about the ICD10 PCS Codes? Do they all have a similar character pattern?\n",
        "\n",
        "\n",
        "### Solution"
      ]
    },
    {
      "cell_type": "code",
      "metadata": {
        "id": "p8h1_oqSXFOz",
        "colab_type": "code",
        "colab": {}
      },
      "source": [
        "import pandas as pd\n",
        "import numpy as np"
      ],
      "execution_count": 0,
      "outputs": []
    },
    {
      "cell_type": "code",
      "metadata": {
        "id": "n8kYuKvnXFO3",
        "colab_type": "code",
        "colab": {}
      },
      "source": [
        "ccs_pcs_file_path = \"https://raw.githubusercontent.com/anhle/AI-Healthcare/master/AI_EHR/Ex/data/clean_ccs_pr_icd10pcs.csv\""
      ],
      "execution_count": 0,
      "outputs": []
    },
    {
      "cell_type": "code",
      "metadata": {
        "id": "RZDAY1olXFO6",
        "colab_type": "code",
        "colab": {}
      },
      "source": [
        "ccs_pcs_df = pd.read_csv(ccs_pcs_file_path)"
      ],
      "execution_count": 0,
      "outputs": []
    },
    {
      "cell_type": "code",
      "metadata": {
        "id": "DYAl7RUwXFO9",
        "colab_type": "code",
        "colab": {}
      },
      "source": [
        "#  Inspect the dataset schema and look at some example rows\n",
        "ccs_pcs_df.head()"
      ],
      "execution_count": 0,
      "outputs": []
    },
    {
      "cell_type": "markdown",
      "metadata": {
        "id": "Kb3mA9D1XFPA",
        "colab_type": "text"
      },
      "source": [
        "**1.a.  If you search for CCS_CATEGORY_DESCRIPTION for \"coronary\", what are the two categories that you find?**"
      ]
    },
    {
      "cell_type": "code",
      "metadata": {
        "id": "tYtp0Hm-XjkI",
        "colab_type": "code",
        "colab": {}
      },
      "source": [
        "ccs_pcs_df.shape\n"
      ],
      "execution_count": 0,
      "outputs": []
    },
    {
      "cell_type": "code",
      "metadata": {
        "id": "5UXpUxVCXFPA",
        "colab_type": "code",
        "colab": {}
      },
      "source": [
        "coronary_ccs_df = ccs_pcs_df[ccs_pcs_df['CCS_CATEGORY_DESCRIPTION'].str.contains('coronary')]"
      ],
      "execution_count": 0,
      "outputs": []
    },
    {
      "cell_type": "code",
      "metadata": {
        "id": "cH1qdDrRXvl0",
        "colab_type": "code",
        "colab": {}
      },
      "source": [
        "coronary_ccs_df.head()"
      ],
      "execution_count": 0,
      "outputs": []
    },
    {
      "cell_type": "code",
      "metadata": {
        "id": "5afTU0T3XFPD",
        "colab_type": "code",
        "colab": {}
      },
      "source": [
        "coronary_ccs_df.CCS_CATEGORY.unique()"
      ],
      "execution_count": 0,
      "outputs": []
    },
    {
      "cell_type": "code",
      "metadata": {
        "id": "drkRVKT5XFPF",
        "colab_type": "code",
        "colab": {}
      },
      "source": [
        "coronary_ccs_df.CCS_CATEGORY_DESCRIPTION.unique()"
      ],
      "execution_count": 0,
      "outputs": []
    },
    {
      "cell_type": "markdown",
      "metadata": {
        "id": "_4-vrPwLXFPI",
        "colab_type": "text"
      },
      "source": [
        "**1.b. What is/are the label(s) for the multi-level 1 categories?**"
      ]
    },
    {
      "cell_type": "code",
      "metadata": {
        "id": "M9apZ09zXFPI",
        "colab_type": "code",
        "colab": {}
      },
      "source": [
        "coronary_ccs_df.MULTI_CCS_LVL_1_LABEL.unique()"
      ],
      "execution_count": 0,
      "outputs": []
    },
    {
      "cell_type": "markdown",
      "metadata": {
        "id": "KoUPXIKvXFPM",
        "colab_type": "text"
      },
      "source": [
        "**2. Given CCS single level category 45, what do you notice about the ICD10 PCS Codes? Do they all have a similar character pattern?**"
      ]
    },
    {
      "cell_type": "code",
      "metadata": {
        "id": "TyDj1JJAXFPM",
        "colab_type": "code",
        "colab": {}
      },
      "source": [
        "cat_45_df = ccs_pcs_df[ccs_pcs_df['CCS_CATEGORY']==45]"
      ],
      "execution_count": 0,
      "outputs": []
    },
    {
      "cell_type": "code",
      "metadata": {
        "id": "a76ULOGIXFPP",
        "colab_type": "code",
        "colab": {}
      },
      "source": [
        "cat_45_df.head()"
      ],
      "execution_count": 0,
      "outputs": []
    },
    {
      "cell_type": "code",
      "metadata": {
        "id": "0eNqmzO9XFPR",
        "colab_type": "code",
        "colab": {}
      },
      "source": [
        "ccs_first_character_set = set(cat_45_df['ICD10_PCS_CODE'].str[0:1])\n",
        "ccs_first_character_set"
      ],
      "execution_count": 0,
      "outputs": []
    },
    {
      "cell_type": "code",
      "metadata": {
        "id": "Bfv_1xk8XFPT",
        "colab_type": "code",
        "colab": {}
      },
      "source": [
        "ccs_two_character_set = set(cat_45_df['ICD10_PCS_CODE'].str[0:2])\n",
        "ccs_two_character_set"
      ],
      "execution_count": 0,
      "outputs": []
    },
    {
      "cell_type": "code",
      "metadata": {
        "id": "bdEl7kGjXFPV",
        "colab_type": "code",
        "colab": {}
      },
      "source": [
        "ccs_three_code_set = set(cat_45_df['ICD10_PCS_CODE'].str[0:3])\n",
        "ccs_three_code_set"
      ],
      "execution_count": 0,
      "outputs": []
    },
    {
      "cell_type": "code",
      "metadata": {
        "id": "gPKiLVAqXFPX",
        "colab_type": "code",
        "colab": {}
      },
      "source": [
        "ccs_four_code_set = set(cat_45_df['ICD10_PCS_CODE'].str[0:4])\n",
        "ccs_four_code_set"
      ],
      "execution_count": 0,
      "outputs": []
    },
    {
      "cell_type": "code",
      "metadata": {
        "id": "Ahb-kPJOXFPa",
        "colab_type": "code",
        "colab": {}
      },
      "source": [
        ""
      ],
      "execution_count": 0,
      "outputs": []
    }
  ]
}