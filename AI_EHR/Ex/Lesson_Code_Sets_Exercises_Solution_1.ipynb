{
  "nbformat": 4,
  "nbformat_minor": 0,
  "metadata": {
    "kernelspec": {
      "display_name": "Python 3",
      "language": "python",
      "name": "python3"
    },
    "language_info": {
      "codemirror_mode": {
        "name": "ipython",
        "version": 3
      },
      "file_extension": ".py",
      "mimetype": "text/x-python",
      "name": "python",
      "nbconvert_exporter": "python",
      "pygments_lexer": "ipython3",
      "version": "3.7.6"
    },
    "colab": {
      "name": "Lesson_Code Sets_Exercises_Solution_1.ipynb",
      "provenance": [],
      "include_colab_link": true
    }
  },
  "cells": [
    {
      "cell_type": "markdown",
      "metadata": {
        "id": "view-in-github",
        "colab_type": "text"
      },
      "source": [
        "<a href=\"https://colab.research.google.com/github/anhle/AI-Healthcare/blob/master/AI_EHR/Ex/Lesson_Code_Sets_Exercises_Solution_1.ipynb\" target=\"_parent\"><img src=\"https://colab.research.google.com/assets/colab-badge.svg\" alt=\"Open In Colab\"/></a>"
      ]
    },
    {
      "cell_type": "markdown",
      "metadata": {
        "id": "qmKm1Z1g0re0",
        "colab_type": "text"
      },
      "source": [
        "**Why do we need code sets?**\n",
        "\n",
        "There are many different providers and EHR systems around the world. There needs to be a standard way to encode common diagnoses, medications, procedures, and lab test results across all these providers and systems. We will focus on some of the most common code sets that allow for some of the most high-value analysis.\n",
        "\n",
        "**Importance of Using Codes to Group/Categorize Your Data**\n",
        "\n",
        "As you will see in a bit there are literally thousands of medical codes in use and each time have a Medical Encounter, you have several of these codes added to that encounter. If you do not properly group/categorize your data, you may end up with missing or incorrect data to feed into your model. As an example let's say you knew one of the diagnosis codes for Sepsis and wanted to build a model around predicting which patients are at the greatest risk for Sepsis. Sepsis- sepsis during labor (O75.3) If you used only that code to build your dataset for training you are likely missing out on thousands of other records that also deal with Sepsis, but have a different code.\n",
        "\n",
        "**Diagnosis Code Prioritization**\n",
        "\n",
        "At a high level, it is important to distinguish what code is taking up the most resources or is the most critical and there are few terms that you should become familiar with.\n",
        "\n",
        "* Primary Diagnosis Code: The code that takes up the most resources to treat.\n",
        "* Principal Diagnosis Code: The diagnosis that is found after hospitalization to be the one that is chiefly responsible.\n",
        "This can be an important distinction since the admitting diagnosis code can widely differ from the final, Principal Diagnosis. For the most part, these terms interchangeably but it's good to be aware of the differences and the need to dig into the details when necessary.\n",
        "\n",
        "* Secondary Diagnosis Codes: The other diagnosis codes listed on an encounter."
      ]
    },
    {
      "cell_type": "markdown",
      "metadata": {
        "id": "Trldu8OPz1fo",
        "colab_type": "text"
      },
      "source": [
        "## Code Sets Exercise 1: Diagnose Code Grouping - Solution"
      ]
    },
    {
      "cell_type": "markdown",
      "metadata": {
        "id": "TNCl7NZpz1fp",
        "colab_type": "text"
      },
      "source": [
        "### Datasets Source \n",
        "- From 2018 CA inpatient dataset - https://data.chhs.ca.gov/dataset/hospital-inpatient-diagnosis-procedure-and-external-cause-codes/\n",
        "- Attribution to CA https://data.chhs.ca.gov/pages/terms\n",
        "\n",
        "The attributes of the data are:\n",
        "1. `ICD10CMCODE` - The ICD-10-CM Code\n",
        "2. `DiagnosisDesc` - Diagnosis Description \n",
        "3. `TotalDiag` - Count of Total Diagnosis\t\n",
        "4. `PrimaryDiag` - Count of Primary Diagnosis\t\n",
        "5. `SecondDiag` - Count of Secondary Diagnosis"
      ]
    },
    {
      "cell_type": "markdown",
      "metadata": {
        "id": "5EDU5Evnz1fp",
        "colab_type": "text"
      },
      "source": [
        "### Instructions\n",
        "Please use the dataset above from the state of California that provides the **total inpatient diagnosis counts** using the ICD10 - CM code set. \n",
        "1. Give the codes that have 'SEPSIS\" in the description (HINT: could use the str.contains function)\n",
        "2. What percentage of primary diagnosis could be grouped at the category level with A41? \n",
        "3. If you were to create a metacategory for sepsis, what percentage of secondary diagnosis codes would be grouped with using just the first character? "
      ]
    },
    {
      "cell_type": "code",
      "metadata": {
        "id": "w69g-TCEz1fq",
        "colab_type": "code",
        "colab": {}
      },
      "source": [
        "import pandas as pd\n",
        "import numpy as np"
      ],
      "execution_count": 0,
      "outputs": []
    },
    {
      "cell_type": "code",
      "metadata": {
        "id": "KaR2EXN3z1ft",
        "colab_type": "code",
        "colab": {}
      },
      "source": [
        "ca_icd_dx_path = \"https://raw.githubusercontent.com/anhle/AI-Healthcare/master/AI_EHR/Ex/data/ICD-10-CM-Table%201.csv\"\n",
        "#last row is malformed\n",
        "dx_df = pd.read_csv(ca_icd_dx_path).fillna(0)[:-1]"
      ],
      "execution_count": 0,
      "outputs": []
    },
    {
      "cell_type": "code",
      "metadata": {
        "id": "f71VP0Szz1fw",
        "colab_type": "code",
        "colab": {
          "base_uri": "https://localhost:8080/",
          "height": 197
        },
        "outputId": "72ea7d8b-8bec-4c82-b89a-97d112ac7df7"
      },
      "source": [
        "dx_df.head()"
      ],
      "execution_count": 4,
      "outputs": [
        {
          "output_type": "execute_result",
          "data": {
            "text/html": [
              "<div>\n",
              "<style scoped>\n",
              "    .dataframe tbody tr th:only-of-type {\n",
              "        vertical-align: middle;\n",
              "    }\n",
              "\n",
              "    .dataframe tbody tr th {\n",
              "        vertical-align: top;\n",
              "    }\n",
              "\n",
              "    .dataframe thead th {\n",
              "        text-align: right;\n",
              "    }\n",
              "</style>\n",
              "<table border=\"1\" class=\"dataframe\">\n",
              "  <thead>\n",
              "    <tr style=\"text-align: right;\">\n",
              "      <th></th>\n",
              "      <th>ICD10CMCODE</th>\n",
              "      <th>DiagnosisDesc</th>\n",
              "      <th>TotalDiag</th>\n",
              "      <th>PrimaryDiag</th>\n",
              "      <th>SecondDiag</th>\n",
              "    </tr>\n",
              "  </thead>\n",
              "  <tbody>\n",
              "    <tr>\n",
              "      <th>0</th>\n",
              "      <td>A00.0</td>\n",
              "      <td>CHOLERA DUE TO VIBRIO CHOLERAE 01, BIOVAR CHOL...</td>\n",
              "      <td>5</td>\n",
              "      <td>1</td>\n",
              "      <td>4</td>\n",
              "    </tr>\n",
              "    <tr>\n",
              "      <th>1</th>\n",
              "      <td>A00.9</td>\n",
              "      <td>CHOLERA, UNSPECIFIED</td>\n",
              "      <td>4</td>\n",
              "      <td>1</td>\n",
              "      <td>3</td>\n",
              "    </tr>\n",
              "    <tr>\n",
              "      <th>2</th>\n",
              "      <td>A01.00</td>\n",
              "      <td>TYPHOID FEVER, UNSPECIFIED</td>\n",
              "      <td>56</td>\n",
              "      <td>27</td>\n",
              "      <td>29</td>\n",
              "    </tr>\n",
              "    <tr>\n",
              "      <th>3</th>\n",
              "      <td>A01.01</td>\n",
              "      <td>TYPHOID MENINGITIS</td>\n",
              "      <td>1</td>\n",
              "      <td>0</td>\n",
              "      <td>1</td>\n",
              "    </tr>\n",
              "    <tr>\n",
              "      <th>4</th>\n",
              "      <td>A01.02</td>\n",
              "      <td>TYPHOID FEVER WITH HEART INVOLVEMENT</td>\n",
              "      <td>1</td>\n",
              "      <td>0</td>\n",
              "      <td>1</td>\n",
              "    </tr>\n",
              "  </tbody>\n",
              "</table>\n",
              "</div>"
            ],
            "text/plain": [
              "  ICD10CMCODE  ... SecondDiag\n",
              "0       A00.0  ...          4\n",
              "1       A00.9  ...          3\n",
              "2      A01.00  ...         29\n",
              "3      A01.01  ...          1\n",
              "4      A01.02  ...          1\n",
              "\n",
              "[5 rows x 5 columns]"
            ]
          },
          "metadata": {
            "tags": []
          },
          "execution_count": 4
        }
      ]
    },
    {
      "cell_type": "markdown",
      "metadata": {
        "id": "dDhLfKMLz1f1",
        "colab_type": "text"
      },
      "source": [
        "### Solution"
      ]
    },
    {
      "cell_type": "markdown",
      "metadata": {
        "id": "8ZRggW0Iz1f2",
        "colab_type": "text"
      },
      "source": [
        "**1. Give the codes that have 'SEPSIS\" in the description**"
      ]
    },
    {
      "cell_type": "code",
      "metadata": {
        "id": "fv98eGeBz1f4",
        "colab_type": "code",
        "colab": {}
      },
      "source": [
        "sepsis_df = dx_df[dx_df['DiagnosisDesc'].str.contains('SEPSIS')]\n",
        "sepsis_df"
      ],
      "execution_count": 0,
      "outputs": []
    },
    {
      "cell_type": "markdown",
      "metadata": {
        "id": "UtMY2Kexz1f6",
        "colab_type": "text"
      },
      "source": [
        "**2. What percentage of primary diagnosis could be grouped at the category level with A41?**"
      ]
    },
    {
      "cell_type": "code",
      "metadata": {
        "id": "zQ2NlKC7z1f7",
        "colab_type": "code",
        "colab": {
          "base_uri": "https://localhost:8080/",
          "height": 34
        },
        "outputId": "d69f8651-03ad-44a1-c801-b08abc3e5c3b"
      },
      "source": [
        "a41_cat_level_sum = sepsis_df[sepsis_df['ICD10CMCODE'].str.startswith('A41')]['PrimaryDiag'].astype(int).sum()\n",
        "a41_cat_level_sum"
      ],
      "execution_count": 7,
      "outputs": [
        {
          "output_type": "execute_result",
          "data": {
            "text/plain": [
              "281924"
            ]
          },
          "metadata": {
            "tags": []
          },
          "execution_count": 7
        }
      ]
    },
    {
      "cell_type": "code",
      "metadata": {
        "id": "-WWxsM8Ez1gB",
        "colab_type": "code",
        "colab": {
          "base_uri": "https://localhost:8080/",
          "height": 34
        },
        "outputId": "ed291b61-a0b4-4baa-818f-79f3f7e2a578"
      },
      "source": [
        "total_primary_dx = sum(sepsis_df['PrimaryDiag'].astype(int))\n",
        "total_primary_dx"
      ],
      "execution_count": 8,
      "outputs": [
        {
          "output_type": "execute_result",
          "data": {
            "text/plain": [
              "294017"
            ]
          },
          "metadata": {
            "tags": []
          },
          "execution_count": 8
        }
      ]
    },
    {
      "cell_type": "code",
      "metadata": {
        "id": "-rfgBaRdz1gD",
        "colab_type": "code",
        "colab": {
          "base_uri": "https://localhost:8080/",
          "height": 34
        },
        "outputId": "bc3eb9dc-1765-41e4-e690-e77818cdf13d"
      },
      "source": [
        "float(a41_cat_level_sum/total_primary_dx)"
      ],
      "execution_count": 9,
      "outputs": [
        {
          "output_type": "execute_result",
          "data": {
            "text/plain": [
              "0.9588697252199703"
            ]
          },
          "metadata": {
            "tags": []
          },
          "execution_count": 9
        }
      ]
    },
    {
      "cell_type": "markdown",
      "metadata": {
        "id": "yJqcX3hJz1gG",
        "colab_type": "text"
      },
      "source": [
        "**3. If you were to create a metacategory for sepsis, what percentage of secondary diagnosis codes would be grouped with using the first character as A?**"
      ]
    },
    {
      "cell_type": "code",
      "metadata": {
        "id": "PwD9yNrmz1gG",
        "colab_type": "code",
        "colab": {
          "base_uri": "https://localhost:8080/",
          "height": 34
        },
        "outputId": "611a596e-4e10-4b34-8358-5a8f14073f77"
      },
      "source": [
        "a_cat_level_sum = sum(sepsis_df[sepsis_df['ICD10CMCODE'].str.startswith('A')]['SecondDiag'].astype(int))\n",
        "a_cat_level_sum"
      ],
      "execution_count": 10,
      "outputs": [
        {
          "output_type": "execute_result",
          "data": {
            "text/plain": [
              "69056"
            ]
          },
          "metadata": {
            "tags": []
          },
          "execution_count": 10
        }
      ]
    },
    {
      "cell_type": "code",
      "metadata": {
        "id": "TYLUliz4z1gI",
        "colab_type": "code",
        "colab": {
          "base_uri": "https://localhost:8080/",
          "height": 34
        },
        "outputId": "ae81a0ac-808d-469a-c66e-ce19dc5aa3dc"
      },
      "source": [
        "total_secondary_dx = sum(sepsis_df['SecondDiag'].astype(int))\n",
        "total_secondary_dx"
      ],
      "execution_count": 11,
      "outputs": [
        {
          "output_type": "execute_result",
          "data": {
            "text/plain": [
              "230786"
            ]
          },
          "metadata": {
            "tags": []
          },
          "execution_count": 11
        }
      ]
    },
    {
      "cell_type": "code",
      "metadata": {
        "id": "98qOqFghz1gL",
        "colab_type": "code",
        "colab": {
          "base_uri": "https://localhost:8080/",
          "height": 34
        },
        "outputId": "d25b23c3-a17e-49cd-8a47-46cdf3fd98e0"
      },
      "source": [
        "float(a_cat_level_sum/total_secondary_dx)"
      ],
      "execution_count": 12,
      "outputs": [
        {
          "output_type": "execute_result",
          "data": {
            "text/plain": [
              "0.299220923279575"
            ]
          },
          "metadata": {
            "tags": []
          },
          "execution_count": 12
        }
      ]
    }
  ]
}