{
  "nbformat": 4,
  "nbformat_minor": 0,
  "metadata": {
    "kernelspec": {
      "display_name": "Python 3",
      "language": "python",
      "name": "python3"
    },
    "language_info": {
      "codemirror_mode": {
        "name": "ipython",
        "version": 3
      },
      "file_extension": ".py",
      "mimetype": "text/x-python",
      "name": "python",
      "nbconvert_exporter": "python",
      "pygments_lexer": "ipython3",
      "version": "3.7.6"
    },
    "colab": {
      "name": "Analyze_Dataset_Solution.ipynb",
      "provenance": [],
      "toc_visible": true,
      "include_colab_link": true
    }
  },
  "cells": [
    {
      "cell_type": "markdown",
      "metadata": {
        "id": "view-in-github",
        "colab_type": "text"
      },
      "source": [
        "<a href=\"https://colab.research.google.com/github/anhle/AI-Healthcare/blob/master/AI_EHR/Ex/Analyze_Dataset_Solution.ipynb\" target=\"_parent\"><img src=\"https://colab.research.google.com/assets/colab-badge.svg\" alt=\"Open In Colab\"/></a>"
      ]
    },
    {
      "cell_type": "markdown",
      "metadata": {
        "id": "MwTfmPZnJ3fM",
        "colab_type": "text"
      },
      "source": [
        "## Data Analysis: EDA Report"
      ]
    },
    {
      "cell_type": "markdown",
      "metadata": {
        "id": "iJjCjOiQJ3fN",
        "colab_type": "text"
      },
      "source": [
        "### Instructions:  \n",
        "- For the following exercise please create an EDA report and provide the requested information for each part. This exercise will include:\n",
        "    - a. Which features are likely to be numerical features? \n",
        "    - b. Give the number of missing/zero values for each field.  \n",
        "        - Why might the 'chol' field be all zeros?\n",
        "    - c. Analyze value distributions for some selected fields.\n",
        "    - d. Check for outliers and visualize with a box plot.\n",
        "    - e. Analyze cardinality of categorical fields."
      ]
    },
    {
      "cell_type": "markdown",
      "metadata": {
        "id": "3j7QFKL8J3fO",
        "colab_type": "text"
      },
      "source": [
        "We will again use the UCI heart disease dataset for this exercise. However we will use a different dataset with the same schema though.\n",
        "\n",
        "**Dataset**: Heart Disease Dataset donated to UCI ML Dataset Repository https://archive.ics.uci.edu/ml/datasets/heart+Disease. The authors of the databases have requested that any publications resulting from the use of the data include the names of the principal investigator responsible for the data collection at each institution. They would be:\n",
        "1. Hungarian Institute of Cardiology. Budapest: Andras Janosi, M.D.\n",
        "2. University Hospital, Zurich, Switzerland: William Steinbrunn, M.D.\n",
        "3. University Hospital, Basel, Switzerland: Matthias Pfisterer, M.D.\n",
        "4. V.A. Medical Center, Long Beach and Cleveland Clinic Foundation:Robert Detrano, M.D., Ph.D."
      ]
    },
    {
      "cell_type": "markdown",
      "metadata": {
        "id": "rKFz9WxbJ3fP",
        "colab_type": "text"
      },
      "source": [
        "### ETL"
      ]
    },
    {
      "cell_type": "code",
      "metadata": {
        "id": "G43t9zoSJ3fP",
        "colab_type": "code",
        "colab": {}
      },
      "source": [
        "import pandas as pd\n",
        "import numpy as np\n",
        "import sklearn\n",
        "import seaborn as sns\n",
        "import matplotlib.pyplot as plt"
      ],
      "execution_count": 0,
      "outputs": []
    },
    {
      "cell_type": "markdown",
      "metadata": {
        "id": "brfz3gjbJ3fT",
        "colab_type": "text"
      },
      "source": [
        "**NOTE:** For this lesson and exercise we will use the processed dataset instead of the raw dataset, so the categorical feature values have already been converted to numerical values."
      ]
    },
    {
      "cell_type": "code",
      "metadata": {
        "id": "66IQq8H7J3fT",
        "colab_type": "code",
        "colab": {}
      },
      "source": [
        "processed_basel_path = \"https://raw.githubusercontent.com/anhle/AI-Healthcare/master/AI_EHR/Ex/data/processed_swiss.csv\"\n",
        "processed_swiss_df = pd.read_csv(processed_basel_path).replace('?', np.nan)\n",
        "processed_swiss_df.head()"
      ],
      "execution_count": 0,
      "outputs": []
    },
    {
      "cell_type": "code",
      "metadata": {
        "id": "gm8e8gXTJ3fZ",
        "colab_type": "code",
        "colab": {}
      },
      "source": [
        "processed_swiss_df.dtypes"
      ],
      "execution_count": 0,
      "outputs": []
    },
    {
      "cell_type": "markdown",
      "metadata": {
        "id": "bxAbUL0aJ3fb",
        "colab_type": "text"
      },
      "source": [
        "### A. Dataset Schema Analysis\n",
        "- Based off of the schema provided what are likely to be numerical features?"
      ]
    },
    {
      "cell_type": "markdown",
      "metadata": {
        "id": "GthqsGpMJ3fc",
        "colab_type": "text"
      },
      "source": [
        "**Dataset Schema**: The schema for the dataset that we will be using is on the page https://archive.ics.uci.edu/ml/datasets/heart+Disease  under the **\"Attribute Information\"** header. Please note that only 14 attributes are used and listed below\n",
        "1. age: age in years\n",
        "2. sex: sex (1 = male; 0 = female)\n",
        "3. cp: chest pain type\n",
        "    * Value 1: typical angina\n",
        "    * Value 2: atypical angina\n",
        "    * Value 3: non-anginal pain\n",
        "    * Value 4: asymptomatic\n",
        "4. trestbps: resting blood pressure (in mm Hg on admission to the hospital)\n",
        "5. chol: serum cholestoral in mg/dl\n",
        "6. fbs: (fasting blood sugar > 120 mg/dl) (1 = true; 0 = false)\n",
        "7. restecg: resting electrocardiographic results\n",
        "    * Value 0: normal\n",
        "    * Value 1: having ST-T wave abnormality (T wave inversions and/or ST elevation or depression of > 0.05 mV)\n",
        "    * Value 2: showing probable or definite left ventricular hypertrophy by Estes' criteria\n",
        "8. thalach: maximum heart rate achieved\n",
        "9. exang: exercise induced angina (1 = yes; 0 = no)\n",
        "10. oldpeak: ST depression induced by exercise relative to rest\n",
        "11. slope: the slope of the peak exercise ST segment\n",
        "    * Value 1: upsloping\n",
        "    * Value 2: flat\n",
        "    * Value 3: downsloping\n",
        "12. ca: number of major vessels (0-3) colored by flourosopy\n",
        "13. thal:  3 = normal; 6 = fixed defect; 7 = reversable defect\n",
        "14. num: diagnosis of heart disease (angiographic disease status)\n",
        "    * Value 0: < 50% diameter narrowing\n",
        "    * Value 1: > 50% diameter narrowing\n",
        "    * Values >1: linking to attributes 59 through 68, which are vessels (we won't focus on this for this course)\n"
      ]
    },
    {
      "cell_type": "markdown",
      "metadata": {
        "id": "-EG4oDwtJ3fc",
        "colab_type": "text"
      },
      "source": [
        "### Solution\n",
        "- 'age'  \n",
        "- 'trestbps'\n",
        "- 'chol' \n",
        "- 'thalach'\n",
        "- 'oldpeak' "
      ]
    },
    {
      "cell_type": "markdown",
      "metadata": {
        "id": "eI4pLnw1J3fd",
        "colab_type": "text"
      },
      "source": [
        "### B. Missing Values\n",
        "- Give the number of missing/zero values for each field\n",
        "- Why might the 'chol' field be all zeros?"
      ]
    },
    {
      "cell_type": "markdown",
      "metadata": {
        "id": "Rk8a8xBSJ3fd",
        "colab_type": "text"
      },
      "source": [
        "### Solution"
      ]
    },
    {
      "cell_type": "code",
      "metadata": {
        "id": "wPVfeULuJ3fe",
        "colab_type": "code",
        "colab": {}
      },
      "source": [
        "# Missing values\n",
        "def check_null_values(df):\n",
        "    null_df = pd.DataFrame({'columns': df.columns, \n",
        "                            'percent_null': df.isnull().sum() * 100 / len(df), \n",
        "                           'percent_zero': df.isin([0]).sum() * 100 / len(df)\n",
        "                           } )\n",
        "    return null_df "
      ],
      "execution_count": 0,
      "outputs": []
    },
    {
      "cell_type": "code",
      "metadata": {
        "id": "c-UN1YUHJ3fg",
        "colab_type": "code",
        "colab": {}
      },
      "source": [
        "null_df = check_null_values(processed_swiss_df)\n",
        "null_df"
      ],
      "execution_count": 0,
      "outputs": []
    },
    {
      "cell_type": "markdown",
      "metadata": {
        "id": "Ltg_Stm-J3fj",
        "colab_type": "text"
      },
      "source": [
        "**Answer:** The 'chol' field might be all zeros b/c of how this value was imputed for null values. "
      ]
    },
    {
      "cell_type": "markdown",
      "metadata": {
        "id": "LN7pDbBxJ3fk",
        "colab_type": "text"
      },
      "source": [
        "### C. Value Distributions\n",
        "- Analyze value distribution for the categorical feature 'cp' and the numerical feature 'oldpeak'.\n",
        "- For the 'oldpeak' feature is it a normal or uniform distribution?"
      ]
    },
    {
      "cell_type": "markdown",
      "metadata": {
        "id": "CYm9UJQoJ3fk",
        "colab_type": "text"
      },
      "source": [
        "### Solution"
      ]
    },
    {
      "cell_type": "markdown",
      "metadata": {
        "id": "YwT_HEXsJ3fl",
        "colab_type": "text"
      },
      "source": [
        "**Note:** Feel free to use the Pandas dataframe value counts based function provided in the lesson."
      ]
    },
    {
      "cell_type": "code",
      "metadata": {
        "id": "kochn0GLJ3fl",
        "colab_type": "code",
        "colab": {}
      },
      "source": [
        "# this another function for histogram for value counts\n",
        "sns.countplot(processed_swiss_df['cp'])\n"
      ],
      "execution_count": 0,
      "outputs": []
    },
    {
      "cell_type": "code",
      "metadata": {
        "id": "mcq5MBMyJ3fo",
        "colab_type": "code",
        "colab": {}
      },
      "source": [
        "sns.distplot(processed_swiss_df['oldpeak'])"
      ],
      "execution_count": 0,
      "outputs": []
    },
    {
      "cell_type": "markdown",
      "metadata": {
        "id": "nvzNVWyHJ3fq",
        "colab_type": "text"
      },
      "source": [
        "**Answer:** Normal distribution"
      ]
    },
    {
      "cell_type": "markdown",
      "metadata": {
        "id": "aY9esZ6jJ3fr",
        "colab_type": "text"
      },
      "source": [
        "### D. Outliers\n",
        "- Give one feature that has outliers and visualize with box plot?"
      ]
    },
    {
      "cell_type": "markdown",
      "metadata": {
        "id": "jW0Mo-BJJ3fr",
        "colab_type": "text"
      },
      "source": [
        "### Solution"
      ]
    },
    {
      "cell_type": "code",
      "metadata": {
        "id": "zjkaaPbyJ3fs",
        "colab_type": "code",
        "colab": {}
      },
      "source": [
        "sns.boxplot(y=processed_swiss_df['age'])"
      ],
      "execution_count": 0,
      "outputs": []
    },
    {
      "cell_type": "markdown",
      "metadata": {
        "id": "35LDke9BJ3fv",
        "colab_type": "text"
      },
      "source": [
        "### E. Analyzing a Dataset for High Cardinality\n",
        "- Select the categorical fields and give the cardinality for each field\n",
        "- Below I have added a synthetic diagnosis code field for you to the dataset."
      ]
    },
    {
      "cell_type": "code",
      "metadata": {
        "id": "fBzfUb5xJ3fw",
        "colab_type": "code",
        "colab": {}
      },
      "source": [
        "def create_cardinality_feature(df):\n",
        "    num_rows = len(df)\n",
        "    random_code_list = np.arange(100, 1000, 1)\n",
        "    return np.random.choice(random_code_list, num_rows)\n",
        "\n",
        "new_df = processed_swiss_df.copy()\n",
        "new_df['principal_diagnosis_code'] = create_cardinality_feature(new_df)"
      ],
      "execution_count": 0,
      "outputs": []
    },
    {
      "cell_type": "markdown",
      "metadata": {
        "id": "LrKwGH56J3fy",
        "colab_type": "text"
      },
      "source": [
        "###  Solution"
      ]
    },
    {
      "cell_type": "code",
      "metadata": {
        "id": "UT1S8KtDJ3fy",
        "colab_type": "code",
        "colab": {}
      },
      "source": [
        "categorical_feature_list = [ 'sex', 'cp', 'restecg', 'exang', 'slope', 'ca', 'thal', 'principal_diagnosis_code']"
      ],
      "execution_count": 0,
      "outputs": []
    },
    {
      "cell_type": "code",
      "metadata": {
        "id": "-WGSD4d6J3f0",
        "colab_type": "code",
        "colab": {}
      },
      "source": [
        "def count_unique_values(df, cat_col_list):\n",
        "    cat_df = df[cat_col_list]\n",
        "    val_df = pd.DataFrame({'columns': cat_df.columns, \n",
        "                       'cardinality': cat_df.nunique() } )\n",
        "    return val_df"
      ],
      "execution_count": 0,
      "outputs": []
    },
    {
      "cell_type": "code",
      "metadata": {
        "id": "mij7kfgLJ3f3",
        "colab_type": "code",
        "colab": {}
      },
      "source": [
        "val_df = count_unique_values(new_df, categorical_feature_list) \n",
        "val_df"
      ],
      "execution_count": 0,
      "outputs": []
    }
  ]
}