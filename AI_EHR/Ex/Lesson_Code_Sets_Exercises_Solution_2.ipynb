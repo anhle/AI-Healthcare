{
  "nbformat": 4,
  "nbformat_minor": 0,
  "metadata": {
    "kernelspec": {
      "display_name": "Python 3",
      "language": "python",
      "name": "python3"
    },
    "language_info": {
      "codemirror_mode": {
        "name": "ipython",
        "version": 3
      },
      "file_extension": ".py",
      "mimetype": "text/x-python",
      "name": "python",
      "nbconvert_exporter": "python",
      "pygments_lexer": "ipython3",
      "version": "3.7.6"
    },
    "colab": {
      "name": "Lesson_Code_Sets_Exercises_Solution_2.ipynb",
      "provenance": [],
      "include_colab_link": true
    }
  },
  "cells": [
    {
      "cell_type": "markdown",
      "metadata": {
        "id": "view-in-github",
        "colab_type": "text"
      },
      "source": [
        "<a href=\"https://colab.research.google.com/github/anhle/AI-Healthcare/blob/master/AI_EHR/Ex/Lesson_Code_Sets_Exercises_Solution_2.ipynb\" target=\"_parent\"><img src=\"https://colab.research.google.com/assets/colab-badge.svg\" alt=\"Open In Colab\"/></a>"
      ]
    },
    {
      "cell_type": "markdown",
      "metadata": {
        "id": "OCMxmxtO80bm",
        "colab_type": "text"
      },
      "source": [
        "## Code Sets Exercise 2: Procedure Code Grouping - Solution"
      ]
    },
    {
      "cell_type": "markdown",
      "metadata": {
        "id": "2_zNc8Ao80bn",
        "colab_type": "text"
      },
      "source": [
        "### Datasets \n",
        "- 2018 CA inpatient dataset - https://data.chhs.ca.gov/dataset/hospital-inpatient-diagnosis-procedure-and-external-cause-codes/\n",
        "- Attribution to CA https://data.chhs.ca.gov/pages/terms\n",
        "\n",
        "### Instructions\n",
        "Please use the above dataset from the state of California that provides the total inpatient diagnosis counts using the ICD10 - PCS code set. \n",
        "1. Give the codes that have 'CORONARY ARTERY\" in the description\n",
        "2. What percentage of primary procedure codes could be grouped at the B category level? \n",
        "3. What is the highest percentage grouping you can make with 3 characters for the secondary procedure code? \n"
      ]
    },
    {
      "cell_type": "code",
      "metadata": {
        "id": "8skX6TJs80bo",
        "colab_type": "code",
        "colab": {}
      },
      "source": [
        "import pandas as pd\n",
        "import numpy as np"
      ],
      "execution_count": 0,
      "outputs": []
    },
    {
      "cell_type": "code",
      "metadata": {
        "id": "Ls0GLuy380bs",
        "colab_type": "code",
        "colab": {}
      },
      "source": [
        "ca_icd_pc_path = 'https://raw.githubusercontent.com/anhle/AI-Healthcare/master/AI_EHR/Ex/data/ICD-10-PCS-Table%201.csv'"
      ],
      "execution_count": 0,
      "outputs": []
    },
    {
      "cell_type": "code",
      "metadata": {
        "id": "43T4tOSo80bv",
        "colab_type": "code",
        "colab": {}
      },
      "source": [
        "#last row is malformed\n",
        "proc_df = pd.read_csv(ca_icd_pc_path).fillna(0)[:-1]"
      ],
      "execution_count": 0,
      "outputs": []
    },
    {
      "cell_type": "code",
      "metadata": {
        "id": "fLprTOLv80by",
        "colab_type": "code",
        "colab": {
          "base_uri": "https://localhost:8080/",
          "height": 197
        },
        "outputId": "e601046b-b9ea-4722-d9a9-5628078cc12b"
      },
      "source": [
        "proc_df.head()"
      ],
      "execution_count": 4,
      "outputs": [
        {
          "output_type": "execute_result",
          "data": {
            "text/html": [
              "<div>\n",
              "<style scoped>\n",
              "    .dataframe tbody tr th:only-of-type {\n",
              "        vertical-align: middle;\n",
              "    }\n",
              "\n",
              "    .dataframe tbody tr th {\n",
              "        vertical-align: top;\n",
              "    }\n",
              "\n",
              "    .dataframe thead th {\n",
              "        text-align: right;\n",
              "    }\n",
              "</style>\n",
              "<table border=\"1\" class=\"dataframe\">\n",
              "  <thead>\n",
              "    <tr style=\"text-align: right;\">\n",
              "      <th></th>\n",
              "      <th>ProcedureCode</th>\n",
              "      <th>ProcedureDesc</th>\n",
              "      <th>TotalProc</th>\n",
              "      <th>PrimaryProc</th>\n",
              "      <th>SecondProc</th>\n",
              "    </tr>\n",
              "  </thead>\n",
              "  <tbody>\n",
              "    <tr>\n",
              "      <th>0</th>\n",
              "      <td>0016073</td>\n",
              "      <td>BYPASS CEREB VENT TO BLOOD VESS W AUTOL SUB, OPEN</td>\n",
              "      <td>2</td>\n",
              "      <td>0</td>\n",
              "      <td>2</td>\n",
              "    </tr>\n",
              "    <tr>\n",
              "      <th>1</th>\n",
              "      <td>00160J2</td>\n",
              "      <td>BYPASS CEREB VENT TO ATRIUM WITH SYNTH SUB, OP...</td>\n",
              "      <td>17</td>\n",
              "      <td>8</td>\n",
              "      <td>9</td>\n",
              "    </tr>\n",
              "    <tr>\n",
              "      <th>2</th>\n",
              "      <td>00160J4</td>\n",
              "      <td>BYPASS CEREB VENT TO PLEURAL CAV W SYNTH SUB, ...</td>\n",
              "      <td>17</td>\n",
              "      <td>6</td>\n",
              "      <td>11</td>\n",
              "    </tr>\n",
              "    <tr>\n",
              "      <th>3</th>\n",
              "      <td>00160J6</td>\n",
              "      <td>BYPASS CEREB VENT TO PERITON CAV W SYNTH SUB, ...</td>\n",
              "      <td>1372</td>\n",
              "      <td>796</td>\n",
              "      <td>576</td>\n",
              "    </tr>\n",
              "    <tr>\n",
              "      <th>4</th>\n",
              "      <td>00160JB</td>\n",
              "      <td>BYPASS CEREB VENT TO CEREB CISTERN W SYNTH SUB...</td>\n",
              "      <td>46</td>\n",
              "      <td>17</td>\n",
              "      <td>29</td>\n",
              "    </tr>\n",
              "  </tbody>\n",
              "</table>\n",
              "</div>"
            ],
            "text/plain": [
              "  ProcedureCode  ... SecondProc\n",
              "0       0016073  ...          2\n",
              "1       00160J2  ...          9\n",
              "2       00160J4  ...         11\n",
              "3       00160J6  ...        576\n",
              "4       00160JB  ...         29\n",
              "\n",
              "[5 rows x 5 columns]"
            ]
          },
          "metadata": {
            "tags": []
          },
          "execution_count": 4
        }
      ]
    },
    {
      "cell_type": "markdown",
      "metadata": {
        "id": "e9f8N1TO80b1",
        "colab_type": "text"
      },
      "source": [
        "### Solution\n",
        "**1. Give the codes that have 'CORONARY ARTERY\" in the description**"
      ]
    },
    {
      "cell_type": "code",
      "metadata": {
        "id": "GmHYkbWt80b1",
        "colab_type": "code",
        "colab": {}
      },
      "source": [
        "coronary_df = proc_df[proc_df['ProcedureDesc'].str.contains('CORONARY ARTERY')]\n",
        "coronary_df"
      ],
      "execution_count": 0,
      "outputs": []
    },
    {
      "cell_type": "markdown",
      "metadata": {
        "id": "qXtHizuC80b3",
        "colab_type": "text"
      },
      "source": [
        "**2. What percentage of primary procedure codes could be grouped at the B category level?**"
      ]
    },
    {
      "cell_type": "code",
      "metadata": {
        "id": "-i-z7TfN80b4",
        "colab_type": "code",
        "colab": {
          "base_uri": "https://localhost:8080/",
          "height": 34
        },
        "outputId": "016a8d57-edb0-42fe-d8c9-8111e468b6c8"
      },
      "source": [
        "B_cat_level_sum = sum(coronary_df[coronary_df['ProcedureCode'].str.startswith('B')]['PrimaryProc'].astype(int))\n",
        "B_cat_level_sum"
      ],
      "execution_count": 6,
      "outputs": [
        {
          "output_type": "execute_result",
          "data": {
            "text/plain": [
              "87"
            ]
          },
          "metadata": {
            "tags": []
          },
          "execution_count": 6
        }
      ]
    },
    {
      "cell_type": "code",
      "metadata": {
        "id": "DAqCOEf380b7",
        "colab_type": "code",
        "colab": {}
      },
      "source": [
        "total_primary_proc = sum(coronary_df['PrimaryProc'].astype(int))\n",
        "total_primary_proc"
      ],
      "execution_count": 0,
      "outputs": []
    },
    {
      "cell_type": "code",
      "metadata": {
        "id": "yqnGmAZ280b-",
        "colab_type": "code",
        "colab": {}
      },
      "source": [
        "float(B_cat_level_sum/total_primary_proc)"
      ],
      "execution_count": 0,
      "outputs": []
    },
    {
      "cell_type": "markdown",
      "metadata": {
        "id": "nODvVo6L80cB",
        "colab_type": "text"
      },
      "source": [
        "**3. What is the highest percentage grouping you can make with 3 characters for the secondary procedure code?** "
      ]
    },
    {
      "cell_type": "code",
      "metadata": {
        "id": "7W4g6RoqPGbb",
        "colab_type": "code",
        "colab": {}
      },
      "source": [
        "coronary_df['ProcedureCode'].str[0:3]"
      ],
      "execution_count": 0,
      "outputs": []
    },
    {
      "cell_type": "code",
      "metadata": {
        "id": "SrWcJw2n80cB",
        "colab_type": "code",
        "colab": {}
      },
      "source": [
        "three_code_list = set(coronary_df['ProcedureCode'].str[0:3])\n",
        "three_code_list"
      ],
      "execution_count": 0,
      "outputs": []
    },
    {
      "cell_type": "code",
      "metadata": {
        "id": "JRIump-E80cD",
        "colab_type": "code",
        "colab": {}
      },
      "source": [
        "def calculate_percent_grouped(df, three_letter_code):\n",
        "    second_group_level_sum = sum(df[df['ProcedureCode'].str.startswith(three_letter_code)]['SecondProc'].astype(int))\n",
        "    total_secondary_proc = sum(df['SecondProc'].astype(int))\n",
        "    print(\"Three letter code:{}\\nPercent Grouped:{}\".format( three_letter_code, \n",
        "                                                            float(second_group_level_sum/total_secondary_proc)))"
      ],
      "execution_count": 0,
      "outputs": []
    },
    {
      "cell_type": "code",
      "metadata": {
        "id": "lyOnjerV80cG",
        "colab_type": "code",
        "colab": {}
      },
      "source": [
        "for c in three_code_list:\n",
        "    calculate_percent_grouped(coronary_df, c)"
      ],
      "execution_count": 0,
      "outputs": []
    }
  ]
}