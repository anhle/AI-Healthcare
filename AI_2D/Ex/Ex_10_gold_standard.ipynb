{
  "nbformat": 4,
  "nbformat_minor": 0,
  "metadata": {
    "kernelspec": {
      "display_name": "Python 3",
      "language": "python",
      "name": "python3"
    },
    "language_info": {
      "codemirror_mode": {
        "name": "ipython",
        "version": 3
      },
      "file_extension": ".py",
      "mimetype": "text/x-python",
      "name": "python",
      "nbconvert_exporter": "python",
      "pygments_lexer": "ipython3",
      "version": "3.7.6"
    },
    "colab": {
      "name": "Ex_10_gold_standard.ipynb",
      "provenance": [],
      "include_colab_link": true
    }
  },
  "cells": [
    {
      "cell_type": "markdown",
      "metadata": {
        "id": "view-in-github",
        "colab_type": "text"
      },
      "source": [
        "<a href=\"https://colab.research.google.com/github/anhle/AI-Healthcare/blob/master/AI_2D/Ex/Ex_10_gold_standard.ipynb\" target=\"_parent\"><img src=\"https://colab.research.google.com/assets/colab-badge.svg\" alt=\"Open In Colab\"/></a>"
      ]
    },
    {
      "cell_type": "code",
      "metadata": {
        "id": "VaWkuxeSjPRi",
        "colab_type": "code",
        "colab": {}
      },
      "source": [
        "import numpy as np\n",
        "import pandas as pd"
      ],
      "execution_count": 0,
      "outputs": []
    },
    {
      "cell_type": "markdown",
      "metadata": {
        "id": "pJq3Xvs8jPRm",
        "colab_type": "text"
      },
      "source": [
        "Read in your label data:"
      ]
    },
    {
      "cell_type": "code",
      "metadata": {
        "id": "XePyKMNTjPRn",
        "colab_type": "code",
        "colab": {
          "base_uri": "https://localhost:8080/",
          "height": 347
        },
        "outputId": "b10625b1-8d16-40d4-afe5-9c00cd23b1a1"
      },
      "source": [
        "labels = pd.read_csv('https://raw.githubusercontent.com/anhle/AI-Healthcare/master/AI_2D/Ex/data/labels_gold.csv')\n",
        "labels.head(10)"
      ],
      "execution_count": 6,
      "outputs": [
        {
          "output_type": "execute_result",
          "data": {
            "text/html": [
              "<div>\n",
              "<style scoped>\n",
              "    .dataframe tbody tr th:only-of-type {\n",
              "        vertical-align: middle;\n",
              "    }\n",
              "\n",
              "    .dataframe tbody tr th {\n",
              "        vertical-align: top;\n",
              "    }\n",
              "\n",
              "    .dataframe thead th {\n",
              "        text-align: right;\n",
              "    }\n",
              "</style>\n",
              "<table border=\"1\" class=\"dataframe\">\n",
              "  <thead>\n",
              "    <tr style=\"text-align: right;\">\n",
              "      <th></th>\n",
              "      <th>rad1</th>\n",
              "      <th>rad2</th>\n",
              "      <th>rad3</th>\n",
              "      <th>biopsy</th>\n",
              "    </tr>\n",
              "  </thead>\n",
              "  <tbody>\n",
              "    <tr>\n",
              "      <th>0</th>\n",
              "      <td>benign</td>\n",
              "      <td>benign</td>\n",
              "      <td>benign</td>\n",
              "      <td>benign</td>\n",
              "    </tr>\n",
              "    <tr>\n",
              "      <th>1</th>\n",
              "      <td>benign</td>\n",
              "      <td>benign</td>\n",
              "      <td>benign</td>\n",
              "      <td>benign</td>\n",
              "    </tr>\n",
              "    <tr>\n",
              "      <th>2</th>\n",
              "      <td>benign</td>\n",
              "      <td>benign</td>\n",
              "      <td>benign</td>\n",
              "      <td>benign</td>\n",
              "    </tr>\n",
              "    <tr>\n",
              "      <th>3</th>\n",
              "      <td>benign</td>\n",
              "      <td>benign</td>\n",
              "      <td>benign</td>\n",
              "      <td>benign</td>\n",
              "    </tr>\n",
              "    <tr>\n",
              "      <th>4</th>\n",
              "      <td>benign</td>\n",
              "      <td>benign</td>\n",
              "      <td>cancer</td>\n",
              "      <td>benign</td>\n",
              "    </tr>\n",
              "    <tr>\n",
              "      <th>5</th>\n",
              "      <td>cancer</td>\n",
              "      <td>cancer</td>\n",
              "      <td>cancer</td>\n",
              "      <td>cancer</td>\n",
              "    </tr>\n",
              "    <tr>\n",
              "      <th>6</th>\n",
              "      <td>benign</td>\n",
              "      <td>benign</td>\n",
              "      <td>benign</td>\n",
              "      <td>benign</td>\n",
              "    </tr>\n",
              "    <tr>\n",
              "      <th>7</th>\n",
              "      <td>benign</td>\n",
              "      <td>benign</td>\n",
              "      <td>benign</td>\n",
              "      <td>benign</td>\n",
              "    </tr>\n",
              "    <tr>\n",
              "      <th>8</th>\n",
              "      <td>cancer</td>\n",
              "      <td>cancer</td>\n",
              "      <td>benign</td>\n",
              "      <td>cancer</td>\n",
              "    </tr>\n",
              "    <tr>\n",
              "      <th>9</th>\n",
              "      <td>benign</td>\n",
              "      <td>benign</td>\n",
              "      <td>cancer</td>\n",
              "      <td>benign</td>\n",
              "    </tr>\n",
              "  </tbody>\n",
              "</table>\n",
              "</div>"
            ],
            "text/plain": [
              "     rad1    rad2    rad3  biopsy\n",
              "0  benign  benign  benign  benign\n",
              "1  benign  benign  benign  benign\n",
              "2  benign  benign  benign  benign\n",
              "3  benign  benign  benign  benign\n",
              "4  benign  benign  cancer  benign\n",
              "5  cancer  cancer  cancer  cancer\n",
              "6  benign  benign  benign  benign\n",
              "7  benign  benign  benign  benign\n",
              "8  cancer  cancer  benign  cancer\n",
              "9  benign  benign  cancer  benign"
            ]
          },
          "metadata": {
            "tags": []
          },
          "execution_count": 6
        }
      ]
    },
    {
      "cell_type": "markdown",
      "metadata": {
        "id": "oiWDEdXMjPRq",
        "colab_type": "text"
      },
      "source": [
        "## Create your first ground truth as derived from biopsy labels: "
      ]
    },
    {
      "cell_type": "code",
      "metadata": {
        "id": "YCOJZlPSjPRq",
        "colab_type": "code",
        "colab": {
          "base_uri": "https://localhost:8080/",
          "height": 347
        },
        "outputId": "5afd9aaf-3945-422b-fd9b-f2e410d4c026"
      },
      "source": [
        "## I'm going to replace everything in my 'labels' dataframe with 0's and 1's for easier processing later:\n",
        "labels2 = labels.replace('benign',1).replace('cancer',0)\n",
        "labels2.head(10)"
      ],
      "execution_count": 7,
      "outputs": [
        {
          "output_type": "execute_result",
          "data": {
            "text/html": [
              "<div>\n",
              "<style scoped>\n",
              "    .dataframe tbody tr th:only-of-type {\n",
              "        vertical-align: middle;\n",
              "    }\n",
              "\n",
              "    .dataframe tbody tr th {\n",
              "        vertical-align: top;\n",
              "    }\n",
              "\n",
              "    .dataframe thead th {\n",
              "        text-align: right;\n",
              "    }\n",
              "</style>\n",
              "<table border=\"1\" class=\"dataframe\">\n",
              "  <thead>\n",
              "    <tr style=\"text-align: right;\">\n",
              "      <th></th>\n",
              "      <th>rad1</th>\n",
              "      <th>rad2</th>\n",
              "      <th>rad3</th>\n",
              "      <th>biopsy</th>\n",
              "    </tr>\n",
              "  </thead>\n",
              "  <tbody>\n",
              "    <tr>\n",
              "      <th>0</th>\n",
              "      <td>1</td>\n",
              "      <td>1</td>\n",
              "      <td>1</td>\n",
              "      <td>1</td>\n",
              "    </tr>\n",
              "    <tr>\n",
              "      <th>1</th>\n",
              "      <td>1</td>\n",
              "      <td>1</td>\n",
              "      <td>1</td>\n",
              "      <td>1</td>\n",
              "    </tr>\n",
              "    <tr>\n",
              "      <th>2</th>\n",
              "      <td>1</td>\n",
              "      <td>1</td>\n",
              "      <td>1</td>\n",
              "      <td>1</td>\n",
              "    </tr>\n",
              "    <tr>\n",
              "      <th>3</th>\n",
              "      <td>1</td>\n",
              "      <td>1</td>\n",
              "      <td>1</td>\n",
              "      <td>1</td>\n",
              "    </tr>\n",
              "    <tr>\n",
              "      <th>4</th>\n",
              "      <td>1</td>\n",
              "      <td>1</td>\n",
              "      <td>0</td>\n",
              "      <td>1</td>\n",
              "    </tr>\n",
              "    <tr>\n",
              "      <th>5</th>\n",
              "      <td>0</td>\n",
              "      <td>0</td>\n",
              "      <td>0</td>\n",
              "      <td>0</td>\n",
              "    </tr>\n",
              "    <tr>\n",
              "      <th>6</th>\n",
              "      <td>1</td>\n",
              "      <td>1</td>\n",
              "      <td>1</td>\n",
              "      <td>1</td>\n",
              "    </tr>\n",
              "    <tr>\n",
              "      <th>7</th>\n",
              "      <td>1</td>\n",
              "      <td>1</td>\n",
              "      <td>1</td>\n",
              "      <td>1</td>\n",
              "    </tr>\n",
              "    <tr>\n",
              "      <th>8</th>\n",
              "      <td>0</td>\n",
              "      <td>0</td>\n",
              "      <td>1</td>\n",
              "      <td>0</td>\n",
              "    </tr>\n",
              "    <tr>\n",
              "      <th>9</th>\n",
              "      <td>1</td>\n",
              "      <td>1</td>\n",
              "      <td>0</td>\n",
              "      <td>1</td>\n",
              "    </tr>\n",
              "  </tbody>\n",
              "</table>\n",
              "</div>"
            ],
            "text/plain": [
              "   rad1  rad2  rad3  biopsy\n",
              "0     1     1     1       1\n",
              "1     1     1     1       1\n",
              "2     1     1     1       1\n",
              "3     1     1     1       1\n",
              "4     1     1     0       1\n",
              "5     0     0     0       0\n",
              "6     1     1     1       1\n",
              "7     1     1     1       1\n",
              "8     0     0     1       0\n",
              "9     1     1     0       1"
            ]
          },
          "metadata": {
            "tags": []
          },
          "execution_count": 7
        }
      ]
    },
    {
      "cell_type": "code",
      "metadata": {
        "id": "9O8c-3UujPRt",
        "colab_type": "code",
        "colab": {
          "base_uri": "https://localhost:8080/",
          "height": 123
        },
        "outputId": "b491aa02-a261-4d05-8fa4-4e05615dba95"
      },
      "source": [
        "gt1 = labels2['biopsy']\n",
        "gt1.head()"
      ],
      "execution_count": 8,
      "outputs": [
        {
          "output_type": "execute_result",
          "data": {
            "text/plain": [
              "0    1\n",
              "1    1\n",
              "2    1\n",
              "3    1\n",
              "4    1\n",
              "Name: biopsy, dtype: int64"
            ]
          },
          "metadata": {
            "tags": []
          },
          "execution_count": 8
        }
      ]
    },
    {
      "cell_type": "markdown",
      "metadata": {
        "id": "yyUWNjJYjPRv",
        "colab_type": "text"
      },
      "source": [
        "## Create your second truth by voting system from the three radiologists:"
      ]
    },
    {
      "cell_type": "code",
      "metadata": {
        "id": "tN8_dDtSjPRw",
        "colab_type": "code",
        "colab": {
          "base_uri": "https://localhost:8080/",
          "height": 123
        },
        "outputId": "7eec434f-be53-4d9b-fa7b-c755b842e86c"
      },
      "source": [
        "gt2 = labels2[['rad1','rad2','rad3']].sum(axis=1)\n",
        "gt2 = (gt2 > 1).replace(True,1).replace(False,0)\n",
        "gt2.head()"
      ],
      "execution_count": 9,
      "outputs": [
        {
          "output_type": "execute_result",
          "data": {
            "text/plain": [
              "0    1.0\n",
              "1    1.0\n",
              "2    1.0\n",
              "3    1.0\n",
              "4    1.0\n",
              "dtype: float64"
            ]
          },
          "metadata": {
            "tags": []
          },
          "execution_count": 9
        }
      ]
    },
    {
      "cell_type": "markdown",
      "metadata": {
        "id": "YOaI3JPrjPRy",
        "colab_type": "text"
      },
      "source": [
        "## Create your third ground truth by weighting the three radiologists:"
      ]
    },
    {
      "cell_type": "code",
      "metadata": {
        "scrolled": true,
        "id": "TcIY2gutjPRz",
        "colab_type": "code",
        "colab": {
          "base_uri": "https://localhost:8080/",
          "height": 197
        },
        "outputId": "875cdae8-1a52-476e-bdee-fee9ee4c3724"
      },
      "source": [
        "weighted_labels = labels2.copy()\n",
        "weighted_labels['rad2'] = weighted_labels['rad2'] * 0.67\n",
        "weighted_labels['rad1'] = weighted_labels['rad1'] * 0.33\n",
        "weighted_labels.head()"
      ],
      "execution_count": 10,
      "outputs": [
        {
          "output_type": "execute_result",
          "data": {
            "text/html": [
              "<div>\n",
              "<style scoped>\n",
              "    .dataframe tbody tr th:only-of-type {\n",
              "        vertical-align: middle;\n",
              "    }\n",
              "\n",
              "    .dataframe tbody tr th {\n",
              "        vertical-align: top;\n",
              "    }\n",
              "\n",
              "    .dataframe thead th {\n",
              "        text-align: right;\n",
              "    }\n",
              "</style>\n",
              "<table border=\"1\" class=\"dataframe\">\n",
              "  <thead>\n",
              "    <tr style=\"text-align: right;\">\n",
              "      <th></th>\n",
              "      <th>rad1</th>\n",
              "      <th>rad2</th>\n",
              "      <th>rad3</th>\n",
              "      <th>biopsy</th>\n",
              "    </tr>\n",
              "  </thead>\n",
              "  <tbody>\n",
              "    <tr>\n",
              "      <th>0</th>\n",
              "      <td>0.33</td>\n",
              "      <td>0.67</td>\n",
              "      <td>1</td>\n",
              "      <td>1</td>\n",
              "    </tr>\n",
              "    <tr>\n",
              "      <th>1</th>\n",
              "      <td>0.33</td>\n",
              "      <td>0.67</td>\n",
              "      <td>1</td>\n",
              "      <td>1</td>\n",
              "    </tr>\n",
              "    <tr>\n",
              "      <th>2</th>\n",
              "      <td>0.33</td>\n",
              "      <td>0.67</td>\n",
              "      <td>1</td>\n",
              "      <td>1</td>\n",
              "    </tr>\n",
              "    <tr>\n",
              "      <th>3</th>\n",
              "      <td>0.33</td>\n",
              "      <td>0.67</td>\n",
              "      <td>1</td>\n",
              "      <td>1</td>\n",
              "    </tr>\n",
              "    <tr>\n",
              "      <th>4</th>\n",
              "      <td>0.33</td>\n",
              "      <td>0.67</td>\n",
              "      <td>0</td>\n",
              "      <td>1</td>\n",
              "    </tr>\n",
              "  </tbody>\n",
              "</table>\n",
              "</div>"
            ],
            "text/plain": [
              "   rad1  rad2  rad3  biopsy\n",
              "0  0.33  0.67     1       1\n",
              "1  0.33  0.67     1       1\n",
              "2  0.33  0.67     1       1\n",
              "3  0.33  0.67     1       1\n",
              "4  0.33  0.67     0       1"
            ]
          },
          "metadata": {
            "tags": []
          },
          "execution_count": 10
        }
      ]
    },
    {
      "cell_type": "code",
      "metadata": {
        "id": "aEOpomejjPR1",
        "colab_type": "code",
        "colab": {
          "base_uri": "https://localhost:8080/",
          "height": 123
        },
        "outputId": "ca880a2d-2e87-4454-d1aa-18078448c478"
      },
      "source": [
        "gt3 = weighted_labels[['rad1','rad2','rad3']].sum(axis=1)\n",
        "gt3 = (gt3 > 1).replace(True,1).replace(False,0)\n",
        "gt3.head()"
      ],
      "execution_count": 12,
      "outputs": [
        {
          "output_type": "execute_result",
          "data": {
            "text/plain": [
              "0    1.0\n",
              "1    1.0\n",
              "2    1.0\n",
              "3    1.0\n",
              "4    0.0\n",
              "dtype: float64"
            ]
          },
          "metadata": {
            "tags": []
          },
          "execution_count": 12
        }
      ]
    },
    {
      "cell_type": "markdown",
      "metadata": {
        "id": "CnmcI6HhjPR4",
        "colab_type": "text"
      },
      "source": [
        "## Compare the three ground truths:\n",
        "\n",
        "Here, just explore the three sets of labels you created and see how often they agree"
      ]
    },
    {
      "cell_type": "code",
      "metadata": {
        "id": "UPY5tJMtjPR4",
        "colab_type": "code",
        "colab": {
          "base_uri": "https://localhost:8080/",
          "height": 194
        },
        "outputId": "56a560ae-d034-4867-d340-151d91bffebb"
      },
      "source": [
        "biopsy_to_votes = gt1 == gt2\n",
        "biopsy_to_votes[biopsy_to_votes==False]"
      ],
      "execution_count": 14,
      "outputs": [
        {
          "output_type": "execute_result",
          "data": {
            "text/plain": [
              "12    False\n",
              "14    False\n",
              "22    False\n",
              "29    False\n",
              "30    False\n",
              "34    False\n",
              "37    False\n",
              "52    False\n",
              "57    False\n",
              "dtype: bool"
            ]
          },
          "metadata": {
            "tags": []
          },
          "execution_count": 14
        }
      ]
    },
    {
      "cell_type": "code",
      "metadata": {
        "id": "QDCvK2kWjPR6",
        "colab_type": "code",
        "colab": {
          "base_uri": "https://localhost:8080/",
          "height": 301
        },
        "outputId": "9df7ad25-9f9b-426e-c034-f558754f180d"
      },
      "source": [
        "biopsy_to_weights = gt1 == gt3\n",
        "biopsy_to_weights[biopsy_to_weights==False]"
      ],
      "execution_count": 15,
      "outputs": [
        {
          "output_type": "execute_result",
          "data": {
            "text/plain": [
              "4     False\n",
              "9     False\n",
              "12    False\n",
              "14    False\n",
              "17    False\n",
              "20    False\n",
              "22    False\n",
              "29    False\n",
              "30    False\n",
              "34    False\n",
              "37    False\n",
              "52    False\n",
              "56    False\n",
              "57    False\n",
              "58    False\n",
              "dtype: bool"
            ]
          },
          "metadata": {
            "tags": []
          },
          "execution_count": 15
        }
      ]
    },
    {
      "cell_type": "markdown",
      "metadata": {
        "id": "_yBA4pXgjPR8",
        "colab_type": "text"
      },
      "source": [
        "Interestingly, in the example above the weighting example performs worse against biopsy labels than simple voting. This may be an artefact of the weightings that we chose, and is not always sub-optimal to simple voting. "
      ]
    }
  ]
}