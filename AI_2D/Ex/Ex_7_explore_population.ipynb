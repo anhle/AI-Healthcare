{
  "nbformat": 4,
  "nbformat_minor": 0,
  "metadata": {
    "kernelspec": {
      "display_name": "Python 3",
      "language": "python",
      "name": "python3"
    },
    "language_info": {
      "codemirror_mode": {
        "name": "ipython",
        "version": 3
      },
      "file_extension": ".py",
      "mimetype": "text/x-python",
      "name": "python",
      "nbconvert_exporter": "python",
      "pygments_lexer": "ipython3",
      "version": "3.7.6"
    },
    "colab": {
      "name": "Ex_7_explore_population.ipynb",
      "provenance": [],
      "toc_visible": true,
      "include_colab_link": true
    }
  },
  "cells": [
    {
      "cell_type": "markdown",
      "metadata": {
        "id": "view-in-github",
        "colab_type": "text"
      },
      "source": [
        "<a href=\"https://colab.research.google.com/github/anhle/AI-Healthcare/blob/master/AI_2D/Ex/Ex_7_explore_population.ipynb\" target=\"_parent\"><img src=\"https://colab.research.google.com/assets/colab-badge.svg\" alt=\"Open In Colab\"/></a>"
      ]
    },
    {
      "cell_type": "markdown",
      "metadata": {
        "id": "9L1v7H_lpBBP",
        "colab_type": "text"
      },
      "source": [
        "The other important aspect of EDA is exploring your population. In this exercise, you'll be given a dataframe that describes a large dataset. Your goal is to perform EDA on the population in the dataset such that you can answer the following questions:\n",
        "\n",
        "1. How are the different diseases distributed in my dataset in terms of frequency and co-occurrence with one another? (For the sake of time, just choose one of the diseases and assess its co-occurrence frequencies with all other diseases.)\n",
        "2. How is age distributed across my dataset? Is it distributed differently for different diseases?\n",
        "3. How is sex distributed across my dataset? Is it distributed differently for different diseases?\n",
        "4. For findings that have a Mass_size (i.e. not just a binary classification of disease presence) is there a relationship between size and age, sex, or presence of other diseases?"
      ]
    },
    {
      "cell_type": "code",
      "metadata": {
        "id": "XKIznpyIoMm3",
        "colab_type": "code",
        "colab": {}
      },
      "source": [
        "%matplotlib inline\n",
        "\n",
        "import pandas as pd\n",
        "import numpy as np\n",
        "import matplotlib.pyplot as plt\n",
        "import seaborn as sns\n",
        "from random import sample\n",
        "\n",
        "from itertools import chain\n",
        "from random import sample \n",
        "import scipy"
      ],
      "execution_count": 0,
      "outputs": []
    },
    {
      "cell_type": "code",
      "metadata": {
        "id": "0WCOGe7ioMm8",
        "colab_type": "code",
        "colab": {}
      },
      "source": [
        "d = pd.read_csv('https://raw.githubusercontent.com/anhle/AI-Healthcare/master/AI_2D/Ex/data/findings_data.csv')"
      ],
      "execution_count": 0,
      "outputs": []
    },
    {
      "cell_type": "markdown",
      "metadata": {
        "id": "plaBxJQDpZ_t",
        "colab_type": "text"
      },
      "source": [
        "To understand distributions of variables as they relate to diseases, let's try splitting up the 'Finding Labels' column into one additional column per disease (e.g. one for 'Cardiomegaly', one for 'Emphysema', etc.) and put a binary flag in that column to indicate the presence of the disease"
      ]
    },
    {
      "cell_type": "code",
      "metadata": {
        "id": "vNkmOTwYoMm_",
        "colab_type": "code",
        "colab": {}
      },
      "source": [
        "## Here I'm just going to split up my \"Finding Labels\" column so that I have one column in my dataframe\n",
        "# per disease, with a binary flag. This makes EDA a lot easier! \n",
        "\n",
        "all_labels = np.unique(list(chain(*d['Finding Labels'].map(lambda x: x.split('|')).tolist())))\n",
        "all_labels = [x for x in all_labels if len(x)>0]\n",
        "print('All Labels ({}): {}'.format(len(all_labels), all_labels))\n",
        "for c_label in all_labels:\n",
        "    if len(c_label)>1: # leave out empty labels\n",
        "        d[c_label] = d['Finding Labels'].map(lambda finding: 1.0 if c_label in finding else 0)\n",
        "d.sample(3)"
      ],
      "execution_count": 0,
      "outputs": []
    },
    {
      "cell_type": "code",
      "metadata": {
        "id": "PyLDP-jLoMnB",
        "colab_type": "code",
        "colab": {}
      },
      "source": [
        "len(all_labels)"
      ],
      "execution_count": 0,
      "outputs": []
    },
    {
      "cell_type": "markdown",
      "metadata": {
        "id": "Yx4L86lcoMnE",
        "colab_type": "text"
      },
      "source": [
        "I see here that there are 14 unique types of labels found in my dataset"
      ]
    },
    {
      "cell_type": "code",
      "metadata": {
        "scrolled": true,
        "id": "FwutwvB0oMnE",
        "colab_type": "code",
        "colab": {}
      },
      "source": [
        "d[all_labels].sum()/len(d)"
      ],
      "execution_count": 0,
      "outputs": []
    },
    {
      "cell_type": "code",
      "metadata": {
        "id": "3IkfQrG9oMnH",
        "colab_type": "code",
        "colab": {}
      },
      "source": [
        "ax = d[all_labels].sum().plot(kind='bar')\n",
        "ax.set(ylabel = 'Number of Images with Label')"
      ],
      "execution_count": 0,
      "outputs": []
    },
    {
      "cell_type": "markdown",
      "metadata": {
        "id": "_y2U3HMyoMnJ",
        "colab_type": "text"
      },
      "source": [
        "Above, I see the relative frequencies of each disease in my dataset. It looks like 'No Finding' is the most common occurrence. 'No Finding' can never appear with any other label by definition, so we know that in 57.5% of this dataset, there is no finding in the image. Beyond that, it appears that 'Infiltration' is the most common disease-related label, and it is followed by 'Effusion' and 'Atelectasis.'\n",
        "\n",
        "Since 'Infiltration' is the most common, I'm going to now look at how frequently it appears with all of the other diseases: "
      ]
    },
    {
      "cell_type": "code",
      "metadata": {
        "id": "kQM9oTivqE2P",
        "colab_type": "code",
        "colab": {}
      },
      "source": [
        "d[d.Infiltration == 1]['Finding Labels'].value_counts()[:10].plot(kind='bar')"
      ],
      "execution_count": 0,
      "outputs": []
    },
    {
      "cell_type": "code",
      "metadata": {
        "id": "0Q2nueGeoMnK",
        "colab_type": "code",
        "colab": {}
      },
      "source": [
        "##Since there are many combinations of potential findings, I'm going to look at the 30 most common co-occurrences:\n",
        "plt.figure(figsize=(16,6))\n",
        "d[d.Infiltration==1]['Finding Labels'].value_counts()[0:30].plot(kind='bar')"
      ],
      "execution_count": 0,
      "outputs": []
    },
    {
      "cell_type": "markdown",
      "metadata": {
        "id": "TbRbAbIHoMnM",
        "colab_type": "text"
      },
      "source": [
        "It looks like Infiltration actually occurs alone for the most part, and that its most-common comorbidities are Atelectasis and Effusion. \n",
        "\n",
        "Let's see if the same is true for another label, we'll try Effusion:"
      ]
    },
    {
      "cell_type": "code",
      "metadata": {
        "id": "99H0D6ZZoMnN",
        "colab_type": "code",
        "colab": {}
      },
      "source": [
        "##Since there are many combinations of potential findings, I'm going to look at the 30 most common co-occurrences:\n",
        "plt.figure(figsize=(16,6))\n",
        "d[d.Effusion==1]['Finding Labels'].value_counts()[0:30].plot(kind='bar')"
      ],
      "execution_count": 0,
      "outputs": []
    },
    {
      "cell_type": "markdown",
      "metadata": {
        "id": "vE8aRPHEoMnQ",
        "colab_type": "text"
      },
      "source": [
        "Same thing! Now let's move on to looking at age & gender: "
      ]
    },
    {
      "cell_type": "code",
      "metadata": {
        "id": "lM9jLCTzoMnQ",
        "colab_type": "code",
        "colab": {}
      },
      "source": [
        "plt.figure(figsize=(10,6))\n",
        "plt.hist(d['Patient Age'])"
      ],
      "execution_count": 0,
      "outputs": []
    },
    {
      "cell_type": "code",
      "metadata": {
        "id": "sbAnpZDsoMnT",
        "colab_type": "code",
        "colab": {}
      },
      "source": [
        "plt.figure(figsize=(10,6))\n",
        "plt.hist(d[d.Infiltration==1]['Patient Age'])"
      ],
      "execution_count": 0,
      "outputs": []
    },
    {
      "cell_type": "code",
      "metadata": {
        "id": "BWsFVjGuoMnV",
        "colab_type": "code",
        "colab": {}
      },
      "source": [
        "plt.figure(figsize=(10,6))\n",
        "plt.hist(d[d.Effusion==1]['Patient Age'])"
      ],
      "execution_count": 0,
      "outputs": []
    },
    {
      "cell_type": "markdown",
      "metadata": {
        "id": "O5dLTS4uoMnX",
        "colab_type": "text"
      },
      "source": [
        "Looks like the distribution of age across the whole population is slightly different than it is specifically for Infiltration and Effusion. Infiltration appears to be more skewed towards younger individuals, and Effusion spans the age range but has a large peak around 55. "
      ]
    },
    {
      "cell_type": "code",
      "metadata": {
        "id": "U1f24EDNoMnX",
        "colab_type": "code",
        "colab": {}
      },
      "source": [
        "plt.figure(figsize=(6,6))\n",
        "d['Patient Gender'].value_counts().plot(kind='bar')"
      ],
      "execution_count": 0,
      "outputs": []
    },
    {
      "cell_type": "code",
      "metadata": {
        "id": "EkN4bvezoMnZ",
        "colab_type": "code",
        "colab": {}
      },
      "source": [
        "plt.figure(figsize=(6,6))\n",
        "d[d.Infiltration ==1]['Patient Gender'].value_counts().plot(kind='bar')"
      ],
      "execution_count": 0,
      "outputs": []
    },
    {
      "cell_type": "code",
      "metadata": {
        "id": "qDYC9iGhoMnb",
        "colab_type": "code",
        "colab": {}
      },
      "source": [
        "plt.figure(figsize=(6,6))\n",
        "d[d.Effusion ==1]['Patient Gender'].value_counts().plot(kind='bar')"
      ],
      "execution_count": 0,
      "outputs": []
    },
    {
      "cell_type": "markdown",
      "metadata": {
        "id": "dCa48jxCoMne",
        "colab_type": "text"
      },
      "source": [
        "Gender distribution seems to be pretty equal in the whole population as well as with Infiltration, with a slight preference towards females in the Effusion distribution. "
      ]
    },
    {
      "cell_type": "markdown",
      "metadata": {
        "id": "zlGg1DiUoMne",
        "colab_type": "text"
      },
      "source": [
        "#### Finally, let's look at if and how age & gender relate to mass size in individuals who have a mass as a finding:"
      ]
    },
    {
      "cell_type": "code",
      "metadata": {
        "id": "icpMi_zjoMne",
        "colab_type": "code",
        "colab": {}
      },
      "source": [
        "plt.scatter(d['Patient Age'],d['Mass_Size'])"
      ],
      "execution_count": 0,
      "outputs": []
    },
    {
      "cell_type": "code",
      "metadata": {
        "id": "BtAqEQTaoMng",
        "colab_type": "code",
        "colab": {}
      },
      "source": [
        "mass_sizes = d['Mass_Size'].values\n",
        "mass_inds = np.where(~np.isnan(mass_sizes))\n",
        "ages = d.iloc[mass_inds]['Patient Age']\n",
        "mass_sizes=mass_sizes[mass_inds]\n",
        "scipy.stats.pearsonr(mass_sizes,ages)"
      ],
      "execution_count": 0,
      "outputs": []
    },
    {
      "cell_type": "markdown",
      "metadata": {
        "id": "Pnxt_spsoMni",
        "colab_type": "text"
      },
      "source": [
        "The above tells us that age and mass size are significantly correlated, with a Pearson's coerrelation coefficient of 0.727"
      ]
    },
    {
      "cell_type": "code",
      "metadata": {
        "id": "wNqbQNR-oMnj",
        "colab_type": "code",
        "colab": {}
      },
      "source": [
        "np.mean(d[d['Patient Gender']== 'M']['Mass_Size'])"
      ],
      "execution_count": 0,
      "outputs": []
    },
    {
      "cell_type": "code",
      "metadata": {
        "id": "adfNSfMKoMnl",
        "colab_type": "code",
        "colab": {}
      },
      "source": [
        "np.mean(d[d['Patient Gender']== 'F']['Mass_Size'])"
      ],
      "execution_count": 0,
      "outputs": []
    },
    {
      "cell_type": "code",
      "metadata": {
        "id": "Vr_tGNAJoMnm",
        "colab_type": "code",
        "colab": {}
      },
      "source": [
        "scipy.stats.ttest_ind(d[d['Patient Gender']== 'F']['Mass_Size'],d[d['Patient Gender']== 'M']['Mass_Size'],nan_policy='omit')"
      ],
      "execution_count": 0,
      "outputs": []
    },
    {
      "cell_type": "code",
      "metadata": {
        "id": "OyLixdkZoMno",
        "colab_type": "code",
        "colab": {}
      },
      "source": [
        ""
      ],
      "execution_count": 0,
      "outputs": []
    },
    {
      "cell_type": "markdown",
      "metadata": {
        "id": "h0lNV-wGoMnq",
        "colab_type": "text"
      },
      "source": [
        "The above tells us that there is no statistically significant difference between mass size with gender. "
      ]
    },
    {
      "cell_type": "code",
      "metadata": {
        "id": "b-jZUi7GoMnq",
        "colab_type": "code",
        "colab": {}
      },
      "source": [
        ""
      ],
      "execution_count": 0,
      "outputs": []
    }
  ]
}