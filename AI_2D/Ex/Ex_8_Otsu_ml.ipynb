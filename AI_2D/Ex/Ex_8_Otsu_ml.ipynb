{
  "nbformat": 4,
  "nbformat_minor": 0,
  "metadata": {
    "kernelspec": {
      "display_name": "Python 3",
      "language": "python",
      "name": "python3"
    },
    "language_info": {
      "codemirror_mode": {
        "name": "ipython",
        "version": 3
      },
      "file_extension": ".py",
      "mimetype": "text/x-python",
      "name": "python",
      "nbconvert_exporter": "python",
      "pygments_lexer": "ipython3",
      "version": "3.7.6"
    },
    "colab": {
      "name": "Ex_8_Otsu_ml.ipynb",
      "provenance": [],
      "toc_visible": true,
      "include_colab_link": true
    }
  },
  "cells": [
    {
      "cell_type": "markdown",
      "metadata": {
        "id": "view-in-github",
        "colab_type": "text"
      },
      "source": [
        "<a href=\"https://colab.research.google.com/github/anhle/AI-Healthcare/blob/master/AI_2D/Ex/Ex_8_Otsu_ml.ipynb\" target=\"_parent\"><img src=\"https://colab.research.google.com/assets/colab-badge.svg\" alt=\"Open In Colab\"/></a>"
      ]
    },
    {
      "cell_type": "markdown",
      "metadata": {
        "id": "u6D85sq6MIGF",
        "colab_type": "text"
      },
      "source": [
        "**Differentiate Between Models** \n",
        "\n",
        "Machine learning algorithms aren't always complex, and they can have use cases at many different stages of medical imaging analysis, starting at pre-processing. In this exercise, you'll implement a simple algorithm called Otsu's algorithm that just implements image intensity thresholding to segment breast tissue from the background of an image.\n",
        "\n",
        "Next, you'll use these masks to extract the image intensity distributions for two types of breasts: fatty and dense. These are standard classifications of breast tissue that radiologists make for all mammography studies. Using image intensity to classify breast tissue type is yet another implementation of Otsu's algorithm."
      ]
    },
    {
      "cell_type": "code",
      "metadata": {
        "id": "CcGVKgjfJ1ID",
        "colab_type": "code",
        "colab": {}
      },
      "source": [
        "%matplotlib inline\n",
        "\n",
        "import pandas as pd\n",
        "import numpy as np\n",
        "import matplotlib.pyplot as plt\n",
        "import seaborn as sns\n",
        "import scipy.stats\n",
        "\n",
        "import skimage\n",
        "from skimage import io\n",
        "import glob\n",
        "\n",
        "import sklearn\n",
        "from scipy.ndimage import gaussian_filter"
      ],
      "execution_count": 0,
      "outputs": []
    },
    {
      "cell_type": "markdown",
      "metadata": {
        "id": "P7ut-PZDJ1IH",
        "colab_type": "text"
      },
      "source": [
        "## First we'll do background segmentation:"
      ]
    },
    {
      "cell_type": "code",
      "metadata": {
        "id": "fmQe--iJKmWJ",
        "colab_type": "code",
        "colab": {}
      },
      "source": [
        "!git clone https://github.com/anhle/AI-Healthcare.git"
      ],
      "execution_count": 0,
      "outputs": []
    },
    {
      "cell_type": "code",
      "metadata": {
        "id": "Sctvre__J1IH",
        "colab_type": "code",
        "colab": {}
      },
      "source": [
        "import os\n",
        "dir = '/content/AI-Healthcare/AI_2D/Ex/data'\n",
        "## Read in two mammo images: \n",
        "dense = io.imread(os.path.join(dir,'dense/mdb003.pgm'))\n",
        "fatty = io.imread(os.path.join(dir,'fatty/mdb005.pgm'))"
      ],
      "execution_count": 0,
      "outputs": []
    },
    {
      "cell_type": "code",
      "metadata": {
        "id": "nrjJTbaFJ1IK",
        "colab_type": "code",
        "colab": {}
      },
      "source": [
        "plt.imshow(dense)"
      ],
      "execution_count": 0,
      "outputs": []
    },
    {
      "cell_type": "code",
      "metadata": {
        "id": "LeraKhKeJ1IN",
        "colab_type": "code",
        "colab": {}
      },
      "source": [
        "plt.imshow(fatty)"
      ],
      "execution_count": 0,
      "outputs": []
    },
    {
      "cell_type": "code",
      "metadata": {
        "id": "_oVZIOZoJ1IP",
        "colab_type": "code",
        "colab": {}
      },
      "source": [
        "x = plt.hist(dense.ravel(),bins=256)"
      ],
      "execution_count": 0,
      "outputs": []
    },
    {
      "cell_type": "code",
      "metadata": {
        "id": "M-McaCO5J1IR",
        "colab_type": "code",
        "colab": {}
      },
      "source": [
        "x = plt.hist(fatty.ravel(),bins=256)"
      ],
      "execution_count": 0,
      "outputs": []
    },
    {
      "cell_type": "markdown",
      "metadata": {
        "id": "j3QFIx-GL1en",
        "colab_type": "text"
      },
      "source": [
        "First, I used Otsu’s method to extract background pixels from all of my images using a threshold intensity value of 50. This allowed me to look at the intensity distributions for breast tissue ONLY in fatty tissues or ONLY in dense tissue. I then used scipy.stats.mode to identify the mode (peak) of each type of tissue’s intensity distribution.\n",
        "\n",
        "Here, fatty tissue had a peak at 140 and dense tissue had a peak at 176.\n",
        "\n",
        "I then looped through all of the fatty/dense images and again using Otsu’s method with an intensity threshold of 50 to extract background. I then calculated how far each image’s peak was from the peaks of the fatty and dense tissue distributions. Finally, which difference is smaller determines what type of tissue my image most likely is."
      ]
    },
    {
      "cell_type": "code",
      "metadata": {
        "id": "sLE71prvJ1IV",
        "colab_type": "code",
        "colab": {}
      },
      "source": [
        "## Next, experiment with different cut-off intensity thresholds to try to separate the background of the image\n",
        "## From the histograms above, we might want to start with zero: \n",
        "\n",
        "thresh = 50\n",
        "\n",
        "dense_bin = (dense > thresh) * 255\n",
        "fatty_bin = (fatty > thresh) * 255"
      ],
      "execution_count": 0,
      "outputs": []
    },
    {
      "cell_type": "code",
      "metadata": {
        "id": "gWY1Rsl_M19q",
        "colab_type": "code",
        "colab": {}
      },
      "source": [
        "dense_bin"
      ],
      "execution_count": 0,
      "outputs": []
    },
    {
      "cell_type": "code",
      "metadata": {
        "id": "kPhGZj9eJ1IY",
        "colab_type": "code",
        "colab": {}
      },
      "source": [
        "plt.imshow(dense_bin)"
      ],
      "execution_count": 0,
      "outputs": []
    },
    {
      "cell_type": "code",
      "metadata": {
        "id": "7sVRADR6J1Ia",
        "colab_type": "code",
        "colab": {}
      },
      "source": [
        "plt.imshow(fatty_bin)"
      ],
      "execution_count": 0,
      "outputs": []
    },
    {
      "cell_type": "markdown",
      "metadata": {
        "id": "TnsGinaeJ1Ic",
        "colab_type": "text"
      },
      "source": [
        "Experiment with different values of 'thresh' above until you are satisfied that you are able to create a reasonable separation of tissue from background.\n",
        "\n",
        "One image pre-processing trick you might try before binarizing is _smoothing_ which you perform with a gaussian filter. Try adding the following step before binarization: \n",
        "\n",
        "img_smooth = gaussian_filter(img, sigma = 5)\n",
        "\n",
        "Where changing the value of _sigma_ will change the amount of smoothing. "
      ]
    },
    {
      "cell_type": "markdown",
      "metadata": {
        "id": "V6O2OyiRJ1Id",
        "colab_type": "text"
      },
      "source": [
        "## Once you have chosen your value of threshold, let's use it to see if we can classify dense v. fatty breast tissue: "
      ]
    },
    {
      "cell_type": "code",
      "metadata": {
        "id": "KR42SHkfNERH",
        "colab_type": "code",
        "colab": {}
      },
      "source": [
        "dense_smooth = gaussian_filter(dense, sigma = 3)\n",
        "plt.imshow(dense_smooth)"
      ],
      "execution_count": 0,
      "outputs": []
    },
    {
      "cell_type": "code",
      "metadata": {
        "id": "OpjpLOgDJ1Id",
        "colab_type": "code",
        "colab": {}
      },
      "source": [
        "## Let's first get all of the intensity values of the breast tissue for our fatty breast images using the\n",
        "## segmentation method above: \n",
        "thresh = 50\n",
        "\n",
        "fatty_imgs = glob.glob(os.path.join(dir,\"fatty/*\"))\n",
        "dense_imgs = glob.glob(os.path.join(dir,\"dense/*\"))"
      ],
      "execution_count": 0,
      "outputs": []
    },
    {
      "cell_type": "code",
      "metadata": {
        "id": "oJVNlD2-O1pA",
        "colab_type": "code",
        "colab": {}
      },
      "source": [
        ""
      ],
      "execution_count": 0,
      "outputs": []
    },
    {
      "cell_type": "code",
      "metadata": {
        "id": "c209dO-xJ1If",
        "colab_type": "code",
        "colab": {}
      },
      "source": [
        "fatty_intensities = []\n",
        "\n",
        "for i in fatty_imgs: \n",
        "    \n",
        "    img = plt.imread(i)\n",
        "    img_mask = (img > thresh)\n",
        "    fatty_intensities.extend(img[img_mask].tolist())"
      ],
      "execution_count": 0,
      "outputs": []
    },
    {
      "cell_type": "code",
      "metadata": {
        "id": "YhPOq3DDPFYe",
        "colab_type": "code",
        "colab": {}
      },
      "source": [
        "fatty_intensities"
      ],
      "execution_count": 0,
      "outputs": []
    },
    {
      "cell_type": "code",
      "metadata": {
        "id": "N1fu0wmgJ1Ii",
        "colab_type": "code",
        "colab": {}
      },
      "source": [
        "x = plt.hist(fatty_intensities,bins=256)"
      ],
      "execution_count": 0,
      "outputs": []
    },
    {
      "cell_type": "code",
      "metadata": {
        "id": "xScyJuqvJ1Ik",
        "colab_type": "code",
        "colab": {}
      },
      "source": [
        "dense_intensities = []\n",
        "\n",
        "for i in dense_imgs: \n",
        "    \n",
        "    img = plt.imread(i)\n",
        "    img_mask = (img > thresh)\n",
        "    dense_intensities.extend(img[img_mask].tolist())"
      ],
      "execution_count": 0,
      "outputs": []
    },
    {
      "cell_type": "code",
      "metadata": {
        "id": "nQJQbImMJ1Im",
        "colab_type": "code",
        "colab": {}
      },
      "source": [
        "x = plt.hist(dense_intensities,bins=256)"
      ],
      "execution_count": 0,
      "outputs": []
    },
    {
      "cell_type": "code",
      "metadata": {
        "id": "onquWF2pJ1Io",
        "colab_type": "code",
        "colab": {}
      },
      "source": [
        "scipy.stats.mode(fatty_intensities)[0][0]"
      ],
      "execution_count": 0,
      "outputs": []
    },
    {
      "cell_type": "code",
      "metadata": {
        "id": "-gLyOZuTJ1Iq",
        "colab_type": "code",
        "colab": {}
      },
      "source": [
        "scipy.stats.mode(dense_intensities)[0][0]"
      ],
      "execution_count": 0,
      "outputs": []
    },
    {
      "cell_type": "code",
      "metadata": {
        "id": "GVS3NaK7J1Is",
        "colab_type": "code",
        "colab": {}
      },
      "source": [
        "for i in fatty_imgs: \n",
        "    \n",
        "    img = plt.imread(i)\n",
        "    img_mask = (img > thresh)\n",
        "    \n",
        "    fatty_delta = scipy.stats.mode(img[img_mask])[0][0] - scipy.stats.mode(fatty_intensities)[0][0]\n",
        "    dense_delta = scipy.stats.mode(img[img_mask])[0][0] - scipy.stats.mode(dense_intensities)[0][0]\n",
        "    \n",
        "    if (np.abs(fatty_delta) < np.abs(dense_delta)):\n",
        "        print(\"Fatty\")\n",
        "    else:\n",
        "        print(\"Dense\")"
      ],
      "execution_count": 0,
      "outputs": []
    },
    {
      "cell_type": "code",
      "metadata": {
        "id": "MA9mgbJIJ1Iv",
        "colab_type": "code",
        "colab": {}
      },
      "source": [
        "for i in dense_imgs: \n",
        "    \n",
        "    img = plt.imread(i)\n",
        "    img_mask = (img > thresh)\n",
        "    \n",
        "    fatty_delta = scipy.stats.mode(img[img_mask])[0][0] - scipy.stats.mode(fatty_intensities)[0][0]\n",
        "    dense_delta = scipy.stats.mode(img[img_mask])[0][0] - scipy.stats.mode(dense_intensities)[0][0]\n",
        "    \n",
        "    if (np.abs(fatty_delta) < np.abs(dense_delta)):\n",
        "        print(\"Fatty\")\n",
        "    else:\n",
        "        print(\"Dense\")"
      ],
      "execution_count": 0,
      "outputs": []
    },
    {
      "cell_type": "markdown",
      "metadata": {
        "id": "4tZUswRiJ1Ix",
        "colab_type": "text"
      },
      "source": [
        "Just by using this method, we're able to get 100% accuracy on dense images and 70% accuracy on fatty images! Now, we 'trained' on the same set of images that we validated on, so in order to be confident in this algorithm we need to validated on a separate held out set, which we'll learn about in the next lesson. "
      ]
    },
    {
      "cell_type": "code",
      "metadata": {
        "id": "ev5WxyMLJ1Ix",
        "colab_type": "code",
        "colab": {}
      },
      "source": [
        ""
      ],
      "execution_count": 0,
      "outputs": []
    },
    {
      "cell_type": "code",
      "metadata": {
        "id": "BUXICkdoJ1Iz",
        "colab_type": "code",
        "colab": {}
      },
      "source": [
        ""
      ],
      "execution_count": 0,
      "outputs": []
    }
  ]
}