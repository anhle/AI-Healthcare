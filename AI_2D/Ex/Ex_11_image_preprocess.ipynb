{
  "nbformat": 4,
  "nbformat_minor": 0,
  "metadata": {
    "kernelspec": {
      "display_name": "Python 3",
      "language": "python",
      "name": "python3"
    },
    "language_info": {
      "codemirror_mode": {
        "name": "ipython",
        "version": 3
      },
      "file_extension": ".py",
      "mimetype": "text/x-python",
      "name": "python",
      "nbconvert_exporter": "python",
      "pygments_lexer": "ipython3",
      "version": "3.7.6"
    },
    "colab": {
      "name": "Ex_11_image_preprocess.ipynb",
      "provenance": [],
      "toc_visible": true,
      "include_colab_link": true
    }
  },
  "cells": [
    {
      "cell_type": "markdown",
      "metadata": {
        "id": "view-in-github",
        "colab_type": "text"
      },
      "source": [
        "<a href=\"https://colab.research.google.com/github/anhle/AI-Healthcare/blob/master/AI_2D/Ex/Ex_11_image_preprocess.ipynb\" target=\"_parent\"><img src=\"https://colab.research.google.com/assets/colab-badge.svg\" alt=\"Open In Colab\"/></a>"
      ]
    },
    {
      "cell_type": "markdown",
      "metadata": {
        "id": "xrpUnFsQZxDx",
        "colab_type": "text"
      },
      "source": [
        "**Image Pre-processing for Model Training Exercise**\n",
        "\n",
        "In Exercise 1, we experimented with some smoothing and with Otsu's method for some basic image preprocessing. There are other types of image pre-processing that become important when we start using deep learning. While pre-processing is classically thought of as being useful for cleaning up images by removing artifacts and smoothing out noise, there's another purpose for pre-processing that's more specific to deep learning. That purpose is to expand our set of training data, and it is accomplished by a process called image augmentation. This process takes a set of real images that you have selected for training and creates augmented copies of them to make the set larger, but also to expand the range and variety of the training data that your model will see.\n",
        "\n",
        "In this exercise, you'll use Keras' built-in ImageDataGenerator class to perform augmentation on a set of mammography images to transform those images into a wider variety of appearances for training a future model. Note that there is an infinite number of ways that you can augment an image, and the ways in which you do this should reflect what's possible to see in the real world."
      ]
    },
    {
      "cell_type": "code",
      "metadata": {
        "id": "iN0_VdBfZZTC",
        "colab_type": "code",
        "colab": {}
      },
      "source": [
        "import numpy as np \n",
        "import pandas as pd \n",
        "import os\n",
        "from glob import glob\n",
        "%matplotlib inline\n",
        "import matplotlib.pyplot as plt\n",
        "import tensorflow as tf\n",
        "from skimage import io\n",
        "\n",
        "from keras.preprocessing.image import ImageDataGenerator"
      ],
      "execution_count": 0,
      "outputs": []
    },
    {
      "cell_type": "code",
      "metadata": {
        "id": "0udhzcITadi8",
        "colab_type": "code",
        "colab": {}
      },
      "source": [
        "!git clone https://github.com/anhle/AI-Healthcare.git"
      ],
      "execution_count": 0,
      "outputs": []
    },
    {
      "cell_type": "code",
      "metadata": {
        "id": "3tDdCCFGZZTG",
        "colab_type": "code",
        "colab": {}
      },
      "source": [
        "import os\n",
        "dir = '/content/AI-Healthcare/AI_2D/Ex/data'\n",
        "df = pd.read_csv(os.path.join(dir,'paths_and_labels.csv'))\n",
        "df.head()"
      ],
      "execution_count": 0,
      "outputs": []
    },
    {
      "cell_type": "markdown",
      "metadata": {
        "id": "4lb2gcCPZZTO",
        "colab_type": "text"
      },
      "source": [
        "## First, let's look at what our plan images look like:"
      ]
    },
    {
      "cell_type": "code",
      "metadata": {
        "id": "2OAmSI_adGHp",
        "colab_type": "code",
        "colab": {}
      },
      "source": [
        "df['img_path_full'] = '/content/AI-Healthcare/AI_2D/Ex/data/images/' + df['img_path']\n",
        "df.head()"
      ],
      "execution_count": 0,
      "outputs": []
    },
    {
      "cell_type": "code",
      "metadata": {
        "id": "XqNnTKrTZZTP",
        "colab_type": "code",
        "colab": {}
      },
      "source": [
        "\n",
        "\n",
        "fig, m_axs = plt.subplots(5,4, figsize = (16, 16))\n",
        "m_axs = m_axs.flatten()\n",
        "imgs = df.img_path\n",
        "ind=0\n",
        "\n",
        "for img, ax in zip(imgs, m_axs):\n",
        "    img = io.imread(os.path.join(dir,'images',img))\n",
        "    ax.imshow(img,cmap='gray')\n",
        "    ax.set_title(df.iloc[ind]['class'])\n",
        "    ind=ind+1"
      ],
      "execution_count": 0,
      "outputs": []
    },
    {
      "cell_type": "code",
      "metadata": {
        "id": "-O6Layn9ZZTR",
        "colab_type": "code",
        "colab": {}
      },
      "source": [
        "## you can choose an image size to resize your images to during augmentation, which comes in handy later when you\n",
        "## want to do deep learning using a pre-trained CNN that has a specified size input layer\n",
        "IMG_SIZE = (224, 224)"
      ],
      "execution_count": 0,
      "outputs": []
    },
    {
      "cell_type": "markdown",
      "metadata": {
        "id": "RWgP2R69ZZTT",
        "colab_type": "text"
      },
      "source": [
        "## Below, you will alter the values of the parameters that you pass to ImageDataGenerator. The following cell, you'll display what your augmented images look like. \n",
        "\n",
        "#### Play around with different values for the parameters, running the visualization cell below each time to see how these parameters change the appearance of your augmented data. Make some conclusions about what sorts of values might or might not be appropriate for medical imaging based on what you might see in the real world. You can look at the ImageDataGenerator documentation in Keras to add other parameters as well. \n",
        "\n",
        "* horizontal_flip and vertical_flip should be set to True/False\n",
        "* height_shift_range and width_shift_range should be between 0 and 1\n",
        "* rotation_range can be between 0 and 180\n",
        "* shear_range can be between 0 and 1\n",
        "* zoom_range can be between 0 and 1"
      ]
    },
    {
      "cell_type": "markdown",
      "metadata": {
        "id": "ZKzeS9MJbhX8",
        "colab_type": "text"
      },
      "source": [
        "I used a function called flow_from_dataframe instead of flow_from_directory. This is easier because I had all of my image file paths stored in a dataframe, and is identical in function to flow_from_directory. "
      ]
    },
    {
      "cell_type": "code",
      "metadata": {
        "id": "OYGpMQszZZTU",
        "colab_type": "code",
        "colab": {}
      },
      "source": [
        "idg = ImageDataGenerator(rescale=1. / 255.0,\n",
        "                              horizontal_flip = True, \n",
        "                              vertical_flip = False, \n",
        "                              height_shift_range= 0.1, \n",
        "                              width_shift_range=0.1, \n",
        "                              rotation_range=20, \n",
        "                              shear_range = 0.1,\n",
        "                              zoom_range=0.1)\n",
        "\n",
        "gen = idg.flow_from_dataframe(dataframe=df, \n",
        "                                         directory=None, \n",
        "                                         x_col = 'img_path_full',\n",
        "                                         y_col = 'class',\n",
        "                                         class_mode = 'binary',\n",
        "                                         target_size = IMG_SIZE, \n",
        "                                         batch_size = 9\n",
        "                                         )"
      ],
      "execution_count": 0,
      "outputs": []
    },
    {
      "cell_type": "code",
      "metadata": {
        "id": "RXYPsafwZZTX",
        "colab_type": "code",
        "colab": {}
      },
      "source": [
        "## Look at some examples of our augmented training data. \n",
        "## This is helpful for understanding the extent to which data is being manipulated prior to training, and can be compared\n",
        "## With how the raw data look prior to augmentation\n",
        "t_x, t_y = next(gen)\n",
        "fig, m_axs = plt.subplots(3, 3, figsize = (8, 8))\n",
        "for (c_x, c_y, c_ax) in zip(t_x, t_y, m_axs.flatten()):\n",
        "    c_ax.imshow(c_x[:,:,0], cmap = 'bone')\n",
        "    if c_y == 1: \n",
        "        c_ax.set_title('fatty')\n",
        "    else:\n",
        "        c_ax.set_title('dense')\n",
        "    c_ax.axis('off')"
      ],
      "execution_count": 0,
      "outputs": []
    },
    {
      "cell_type": "markdown",
      "metadata": {
        "id": "NKR_EwVBZZTZ",
        "colab_type": "text"
      },
      "source": [
        "These look reasonable from a medical imaging point of view. Let's see what happens when we choose different parameters (I'm just copying the above two cells and running them again below with other parameters.) "
      ]
    },
    {
      "cell_type": "code",
      "metadata": {
        "id": "X_j-9gJEZZTZ",
        "colab_type": "code",
        "colab": {}
      },
      "source": [
        "idg = ImageDataGenerator(rescale=1. / 255.0,\n",
        "                              horizontal_flip = True, \n",
        "                              vertical_flip = True, ## now i'm adding vertical flip\n",
        "                              height_shift_range= 0.1, \n",
        "                              width_shift_range=0.1, \n",
        "                              rotation_range=45, ## I'm also increasing the rotation_range\n",
        "                              shear_range = 0.1,\n",
        "                              zoom_range=0.1)\n",
        "\n",
        "gen = idg.flow_from_dataframe(dataframe=df, \n",
        "                                         directory=None, \n",
        "                                         x_col = 'img_path_full',\n",
        "                                         y_col = 'class',\n",
        "                                         class_mode = 'binary',\n",
        "                                         target_size = IMG_SIZE, \n",
        "                                         batch_size = 9\n",
        "                                         )"
      ],
      "execution_count": 0,
      "outputs": []
    },
    {
      "cell_type": "code",
      "metadata": {
        "id": "T2JI5TOZZZTc",
        "colab_type": "code",
        "colab": {}
      },
      "source": [
        "## Look at some examples of our augmented training data. \n",
        "## This is helpful for understanding the extent to which data is being manipulated prior to training, and can be compared\n",
        "## With how the raw data look prior to augmentation\n",
        "t_x, t_y = next(gen)\n",
        "fig, m_axs = plt.subplots(3, 3, figsize = (8, 8))\n",
        "for (c_x, c_y, c_ax) in zip(t_x, t_y, m_axs.flatten()):\n",
        "    c_ax.imshow(c_x[:,:,0], cmap = 'bone')\n",
        "    if c_y == 1: \n",
        "        c_ax.set_title('fatty')\n",
        "    else:\n",
        "        c_ax.set_title('dense')\n",
        "    c_ax.axis('off')"
      ],
      "execution_count": 0,
      "outputs": []
    },
    {
      "cell_type": "markdown",
      "metadata": {
        "id": "E1x_vvtwZZTe",
        "colab_type": "text"
      },
      "source": [
        "These do *not* look reasonable. There are upside-down images because I added vertical flip, which we'd never see in a clinical setting. So, we _don't_ want to use this type of augmentation with medical images."
      ]
    },
    {
      "cell_type": "code",
      "metadata": {
        "id": "Dsa9vzQmZZTe",
        "colab_type": "code",
        "colab": {}
      },
      "source": [
        "idg = ImageDataGenerator(rescale=1. / 255.0,\n",
        "                              horizontal_flip = True, \n",
        "                              vertical_flip = False, \n",
        "                              height_shift_range= 0.1, \n",
        "                              width_shift_range=0.1, \n",
        "                              rotation_range=20,\n",
        "                              shear_range = 0.1,\n",
        "                              zoom_range=0.5) ## Here I'm adding a lot more zoom \n",
        "\n",
        "gen = idg.flow_from_dataframe(dataframe=df, \n",
        "                                         directory=None, \n",
        "                                         x_col = 'img_path_full',\n",
        "                                         y_col = 'class',\n",
        "                                         class_mode = 'binary',\n",
        "                                         target_size = IMG_SIZE, \n",
        "                                         batch_size = 9\n",
        "                                         )"
      ],
      "execution_count": 0,
      "outputs": []
    },
    {
      "cell_type": "code",
      "metadata": {
        "id": "cLazrdY9ZZTi",
        "colab_type": "code",
        "colab": {}
      },
      "source": [
        "## Look at some examples of our augmented training data. \n",
        "## This is helpful for understanding the extent to which data is being manipulated prior to training, and can be compared\n",
        "## With how the raw data look prior to augmentation\n",
        "t_x, t_y = next(gen)\n",
        "fig, m_axs = plt.subplots(3, 3, figsize = (8, 8))\n",
        "for (c_x, c_y, c_ax) in zip(t_x, t_y, m_axs.flatten()):\n",
        "    c_ax.imshow(c_x[:,:,0], cmap = 'bone')\n",
        "    if c_y == 1: \n",
        "        c_ax.set_title('fatty')\n",
        "    else:\n",
        "        c_ax.set_title('dense')\n",
        "    c_ax.axis('off')"
      ],
      "execution_count": 0,
      "outputs": []
    },
    {
      "cell_type": "markdown",
      "metadata": {
        "id": "MxRjwvbQZZTj",
        "colab_type": "text"
      },
      "source": [
        "These don't look too bad, although it's possible that too much zoom was added. There's no \"right\" answer for this one, just gaining an understanding of how these parameters change your augmented images. "
      ]
    },
    {
      "cell_type": "code",
      "metadata": {
        "id": "DyAxeGTmZZTk",
        "colab_type": "code",
        "colab": {}
      },
      "source": [
        ""
      ],
      "execution_count": 0,
      "outputs": []
    }
  ]
}