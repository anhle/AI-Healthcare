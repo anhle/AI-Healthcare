{
  "nbformat": 4,
  "nbformat_minor": 0,
  "metadata": {
    "kernelspec": {
      "display_name": "Python 3",
      "language": "python",
      "name": "python3"
    },
    "language_info": {
      "codemirror_mode": {
        "name": "ipython",
        "version": 3
      },
      "file_extension": ".py",
      "mimetype": "text/x-python",
      "name": "python",
      "nbconvert_exporter": "python",
      "pygments_lexer": "ipython3",
      "version": "3.7.6"
    },
    "colab": {
      "name": "Ex_14_FDA_intended_use.ipynb",
      "provenance": [],
      "include_colab_link": true
    }
  },
  "cells": [
    {
      "cell_type": "markdown",
      "metadata": {
        "id": "view-in-github",
        "colab_type": "text"
      },
      "source": [
        "<a href=\"https://colab.research.google.com/github/anhle/AI-Healthcare/blob/master/AI_2D/Ex/Ex_14_FDA_intended_use.ipynb\" target=\"_parent\"><img src=\"https://colab.research.google.com/assets/colab-badge.svg\" alt=\"Open In Colab\"/></a>"
      ]
    },
    {
      "cell_type": "markdown",
      "metadata": {
        "id": "lU-zavxXU5AH",
        "colab_type": "text"
      },
      "source": [
        "**Intended Use and Clinical Impact** \n",
        "\n",
        "In this exercise, you are given a dataframe that contains the demographics of a random sample of patients that a classification algorithm was trained on. Consider this random sample to be representative of the whole training population. This algorithm reads in screening mammography studies and determines if any image in the study is abnormal. The claimed intended use of this algorithm is that it assists in the detection of normal studies, with an indication for use of removal from a radiologist's priority queue, and to flag potentially abnormal studies for earlier reads.\n",
        "\n",
        "The demographic data in the dataframe contains the following information for the patients on whom this algorithm was trained:\n",
        "\n",
        "Age\n",
        "Gender\n",
        "Race\n",
        "Number of prior positive (abnormal) mammography screens\n",
        "Type of mammography scanner used to acquire their images\n",
        "Explore the demographic data to generate a description of who the appropriate population is and what clinical conditions are indicated for the clinical use of this algorithm."
      ]
    },
    {
      "cell_type": "code",
      "metadata": {
        "id": "1d8QKwrYUdbd",
        "colab_type": "code",
        "colab": {}
      },
      "source": [
        "%matplotlib inline\n",
        "import pandas as pd\n",
        "import numpy as np\n",
        "import matplotlib.pyplot as plt\n",
        "import sklearn.metrics"
      ],
      "execution_count": 0,
      "outputs": []
    },
    {
      "cell_type": "code",
      "metadata": {
        "id": "RiQ9fZLAUdbh",
        "colab_type": "code",
        "colab": {
          "base_uri": "https://localhost:8080/",
          "height": 197
        },
        "outputId": "7d09fa00-5cd7-4be4-ad2a-373b67b4ac0a"
      },
      "source": [
        "demos = pd.read_csv('https://raw.githubusercontent.com/anhle/AI-Healthcare/master/AI_2D/Ex/data/demographics.csv')\n",
        "demos.head()"
      ],
      "execution_count": 2,
      "outputs": [
        {
          "output_type": "execute_result",
          "data": {
            "text/html": [
              "<div>\n",
              "<style scoped>\n",
              "    .dataframe tbody tr th:only-of-type {\n",
              "        vertical-align: middle;\n",
              "    }\n",
              "\n",
              "    .dataframe tbody tr th {\n",
              "        vertical-align: top;\n",
              "    }\n",
              "\n",
              "    .dataframe thead th {\n",
              "        text-align: right;\n",
              "    }\n",
              "</style>\n",
              "<table border=\"1\" class=\"dataframe\">\n",
              "  <thead>\n",
              "    <tr style=\"text-align: right;\">\n",
              "      <th></th>\n",
              "      <th>age</th>\n",
              "      <th>gender</th>\n",
              "      <th>num_prior_positive</th>\n",
              "      <th>race</th>\n",
              "      <th>scanner_type</th>\n",
              "      <th>ground_truth</th>\n",
              "      <th>algorithm_output</th>\n",
              "    </tr>\n",
              "  </thead>\n",
              "  <tbody>\n",
              "    <tr>\n",
              "      <th>0</th>\n",
              "      <td>53</td>\n",
              "      <td>F</td>\n",
              "      <td>0</td>\n",
              "      <td>hispanic</td>\n",
              "      <td>hologic</td>\n",
              "      <td>normal</td>\n",
              "      <td>normal</td>\n",
              "    </tr>\n",
              "    <tr>\n",
              "      <th>1</th>\n",
              "      <td>39</td>\n",
              "      <td>F</td>\n",
              "      <td>0</td>\n",
              "      <td>caucasian</td>\n",
              "      <td>hologic</td>\n",
              "      <td>normal</td>\n",
              "      <td>abnormal</td>\n",
              "    </tr>\n",
              "    <tr>\n",
              "      <th>2</th>\n",
              "      <td>56</td>\n",
              "      <td>F</td>\n",
              "      <td>0</td>\n",
              "      <td>african_american</td>\n",
              "      <td>hologic</td>\n",
              "      <td>normal</td>\n",
              "      <td>normal</td>\n",
              "    </tr>\n",
              "    <tr>\n",
              "      <th>3</th>\n",
              "      <td>44</td>\n",
              "      <td>F</td>\n",
              "      <td>0</td>\n",
              "      <td>caucasian</td>\n",
              "      <td>hologic</td>\n",
              "      <td>normal</td>\n",
              "      <td>abnormal</td>\n",
              "    </tr>\n",
              "    <tr>\n",
              "      <th>4</th>\n",
              "      <td>35</td>\n",
              "      <td>F</td>\n",
              "      <td>0</td>\n",
              "      <td>caucasian</td>\n",
              "      <td>hologic</td>\n",
              "      <td>normal</td>\n",
              "      <td>normal</td>\n",
              "    </tr>\n",
              "  </tbody>\n",
              "</table>\n",
              "</div>"
            ],
            "text/plain": [
              "   age gender  num_prior_positive  ... scanner_type ground_truth algorithm_output\n",
              "0   53      F                   0  ...      hologic       normal           normal\n",
              "1   39      F                   0  ...      hologic       normal         abnormal\n",
              "2   56      F                   0  ...      hologic       normal           normal\n",
              "3   44      F                   0  ...      hologic       normal         abnormal\n",
              "4   35      F                   0  ...      hologic       normal           normal\n",
              "\n",
              "[5 rows x 7 columns]"
            ]
          },
          "metadata": {
            "tags": []
          },
          "execution_count": 2
        }
      ]
    },
    {
      "cell_type": "markdown",
      "metadata": {
        "id": "Jty5x_KdUdbk",
        "colab_type": "text"
      },
      "source": [
        "## Look at the distributions of age, gender, num_prior_positives, race, and scanner_type:"
      ]
    },
    {
      "cell_type": "code",
      "metadata": {
        "id": "NVtKDtijUdbm",
        "colab_type": "code",
        "colab": {
          "base_uri": "https://localhost:8080/",
          "height": 264
        },
        "outputId": "f2a276c5-ba4a-4b07-f53c-14af576d802a"
      },
      "source": [
        "ax = plt.hist(demos.age)"
      ],
      "execution_count": 3,
      "outputs": [
        {
          "output_type": "display_data",
          "data": {
            "image/png": "[encoded data removed]",
            "text/plain": [
              "<Figure size 432x288 with 1 Axes>"
            ]
          },
          "metadata": {
            "tags": [],
            "needs_background": "light"
          }
        }
      ]
    },
    {
      "cell_type": "code",
      "metadata": {
        "id": "A1Ql9EziUdbp",
        "colab_type": "code",
        "colab": {
          "base_uri": "https://localhost:8080/",
          "height": 278
        },
        "outputId": "7603944e-bef5-47a7-b7b4-8234a64df0d3"
      },
      "source": [
        "demos.gender.value_counts().plot(kind='bar')"
      ],
      "execution_count": 4,
      "outputs": [
        {
          "output_type": "execute_result",
          "data": {
            "text/plain": [
              "<matplotlib.axes._subplots.AxesSubplot at 0x7f011008e518>"
            ]
          },
          "metadata": {
            "tags": []
          },
          "execution_count": 4
        },
        {
          "output_type": "display_data",
          "data": {
            "image/png": "[encoded data removed]",
            "text/plain": [
              "<Figure size 432x288 with 1 Axes>"
            ]
          },
          "metadata": {
            "tags": [],
            "needs_background": "light"
          }
        }
      ]
    },
    {
      "cell_type": "code",
      "metadata": {
        "id": "ED1h7KxVUdbs",
        "colab_type": "code",
        "colab": {
          "base_uri": "https://localhost:8080/",
          "height": 264
        },
        "outputId": "40ce618d-0511-48ca-f0fe-0496f8884067"
      },
      "source": [
        "ax = plt.hist(demos.num_prior_positive)"
      ],
      "execution_count": 5,
      "outputs": [
        {
          "output_type": "display_data",
          "data": {
            "image/png": "[encoded data removed]",
            "text/plain": [
              "<Figure size 432x288 with 1 Axes>"
            ]
          },
          "metadata": {
            "tags": [],
            "needs_background": "light"
          }
        }
      ]
    },
    {
      "cell_type": "code",
      "metadata": {
        "id": "3HlO2AipUdbv",
        "colab_type": "code",
        "colab": {
          "base_uri": "https://localhost:8080/",
          "height": 360
        },
        "outputId": "cef9f4a0-1bbe-4a6e-b86f-4e9e853ec593"
      },
      "source": [
        "demos.race.value_counts().plot(kind='bar')"
      ],
      "execution_count": 6,
      "outputs": [
        {
          "output_type": "execute_result",
          "data": {
            "text/plain": [
              "<matplotlib.axes._subplots.AxesSubplot at 0x7f010ff700b8>"
            ]
          },
          "metadata": {
            "tags": []
          },
          "execution_count": 6
        },
        {
          "output_type": "display_data",
          "data": {
            "image/png": "[encoded data removed]",
            "text/plain": [
              "<Figure size 432x288 with 1 Axes>"
            ]
          },
          "metadata": {
            "tags": [],
            "needs_background": "light"
          }
        }
      ]
    },
    {
      "cell_type": "code",
      "metadata": {
        "id": "Ah6id_rFUdbx",
        "colab_type": "code",
        "colab": {
          "base_uri": "https://localhost:8080/",
          "height": 308
        },
        "outputId": "0eeb4806-1f12-4801-b510-98a00708dc2f"
      },
      "source": [
        "demos.scanner_type.value_counts().plot(kind='bar')"
      ],
      "execution_count": 7,
      "outputs": [
        {
          "output_type": "execute_result",
          "data": {
            "text/plain": [
              "<matplotlib.axes._subplots.AxesSubplot at 0x7f0110503d68>"
            ]
          },
          "metadata": {
            "tags": []
          },
          "execution_count": 7
        },
        {
          "output_type": "display_data",
          "data": {
            "image/png": "[encoded data removed]",
            "text/plain": [
              "<Figure size 432x288 with 1 Axes>"
            ]
          },
          "metadata": {
            "tags": [],
            "needs_background": "light"
          }
        }
      ]
    },
    {
      "cell_type": "markdown",
      "metadata": {
        "id": "H_sPq15fUdb0",
        "colab_type": "text"
      },
      "source": [
        "### Statement on intended use/population: \n",
        "\n",
        "Looking at the above, we see that the algorithm was trained on female patients only who spanned from ages 35 to 61. None of these patients had ever had a prior abnormal mammography study. All patients were scanned on a Hologic scanner, and were either Caucasian, Hispanic, or African American. \n",
        "\n",
        "From this information, the appropriate intended use statement would be: \n",
        "\n",
        "This algorithm is intended for use on Caucasian, Hispanic, and African American women from the ages of 35-61 who have been administered a screening mammography study on a Hologic mammography machine and have never before demonstrated an abnormal mammography study. "
      ]
    },
    {
      "cell_type": "code",
      "metadata": {
        "id": "CM54s9KqUdb1",
        "colab_type": "code",
        "colab": {}
      },
      "source": [
        ""
      ],
      "execution_count": 0,
      "outputs": []
    }
  ]
}