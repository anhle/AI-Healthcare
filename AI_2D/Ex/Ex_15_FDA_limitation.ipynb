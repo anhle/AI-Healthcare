{
  "nbformat": 4,
  "nbformat_minor": 0,
  "metadata": {
    "kernelspec": {
      "display_name": "Python 3",
      "language": "python",
      "name": "python3"
    },
    "language_info": {
      "codemirror_mode": {
        "name": "ipython",
        "version": 3
      },
      "file_extension": ".py",
      "mimetype": "text/x-python",
      "name": "python",
      "nbconvert_exporter": "python",
      "pygments_lexer": "ipython3",
      "version": "3.7.6"
    },
    "colab": {
      "name": "Ex_15_FDA_limitation.ipynb",
      "provenance": [],
      "toc_visible": true,
      "include_colab_link": true
    }
  },
  "cells": [
    {
      "cell_type": "markdown",
      "metadata": {
        "id": "view-in-github",
        "colab_type": "text"
      },
      "source": [
        "<a href=\"https://colab.research.google.com/github/anhle/AI-Healthcare/blob/master/AI_2D/Ex/Ex_15_FDA_limitation.ipynb\" target=\"_parent\"><img src=\"https://colab.research.google.com/assets/colab-badge.svg\" alt=\"Open In Colab\"/></a>"
      ]
    },
    {
      "cell_type": "markdown",
      "metadata": {
        "id": "8NC7oEVHnJ5x",
        "colab_type": "text"
      },
      "source": [
        "**Algorithmic Limitations** \n",
        "\n",
        "In this exercise, you'll receive a dataframe that contains ground truth labels for 128 chest x-rays that can have any of the following disease labels:\n",
        "\n",
        "* Pneumonia\n",
        "* Atelectasis\n",
        "* Effusion\n",
        "* Infiltration\n",
        "* Pneumothorax\n",
        "* Cardiomegaly\n",
        "* Mass\n",
        "* Nodule\n",
        "\n",
        "The final column in the dataframe is a classification algorithm's assessment of whether or not there is pneumonia in the image. This algorithm's clinical intended use is for the detection of pneumonia on chest x-rays. In this exercise, you will assess the algorithm's performance specifically in the presence of the other diseases, and determine if there are any diseases that significantly impact the algorithm's performance and that should be listed as limitations of the algorithm."
      ]
    },
    {
      "cell_type": "code",
      "metadata": {
        "id": "FyzeQFAul9W8",
        "colab_type": "code",
        "colab": {}
      },
      "source": [
        "import pandas as pd\n",
        "import numpy as np\n",
        "import sklearn.metrics"
      ],
      "execution_count": 0,
      "outputs": []
    },
    {
      "cell_type": "markdown",
      "metadata": {
        "id": "sIDMwWanl9XA",
        "colab_type": "text"
      },
      "source": [
        "Read in labels and performance data:"
      ]
    },
    {
      "cell_type": "code",
      "metadata": {
        "id": "cNtbob2Tl9XA",
        "colab_type": "code",
        "colab": {}
      },
      "source": [
        "data = pd.read_csv('https://raw.githubusercontent.com/anhle/AI-Healthcare/master/AI_2D/Ex/data/labels_and_performance.csv')\n",
        "data.head()"
      ],
      "execution_count": 0,
      "outputs": []
    },
    {
      "cell_type": "markdown",
      "metadata": {
        "id": "BtVpcJOGl9XD",
        "colab_type": "text"
      },
      "source": [
        "First, look at the overall performance of the algorithm for the detection of pneumonia:"
      ]
    },
    {
      "cell_type": "code",
      "metadata": {
        "id": "cvg27iMbl9XD",
        "colab_type": "code",
        "colab": {}
      },
      "source": [
        "tn, fp, fn, tp = sklearn.metrics.confusion_matrix(data.Pneumonia.values,\n",
        "                                                  data.algorithm_output.values,labels=[0,1]).ravel()"
      ],
      "execution_count": 0,
      "outputs": []
    },
    {
      "cell_type": "code",
      "metadata": {
        "id": "aNVzJkq8l9XF",
        "colab_type": "code",
        "colab": {}
      },
      "source": [
        "sens = tp/(tp+fn)\n",
        "sens"
      ],
      "execution_count": 0,
      "outputs": []
    },
    {
      "cell_type": "code",
      "metadata": {
        "id": "rlZ-iQXpl9XI",
        "colab_type": "code",
        "colab": {}
      },
      "source": [
        "spec = tn/(tn+fp)\n",
        "spec"
      ],
      "execution_count": 0,
      "outputs": []
    },
    {
      "cell_type": "markdown",
      "metadata": {
        "id": "09nut0akl9XK",
        "colab_type": "text"
      },
      "source": [
        "Now, look at the algorithm's performance in the presence of the other diseases: "
      ]
    },
    {
      "cell_type": "code",
      "metadata": {
        "id": "NoL-6Ke3l9XK",
        "colab_type": "code",
        "colab": {}
      },
      "source": [
        "for i in ['Atelectasis','Effusion','Pneumothorax','Infiltration','Cardiomegaly','Mass','Nodule']:\n",
        "\n",
        "    tn, fp, fn, tp = sklearn.metrics.confusion_matrix(data[data[i]==1].Pneumonia.values,\n",
        "                                                  data[data[i]==1].algorithm_output.values,labels=[0,1]).ravel()\n",
        "    sens = tp/(tp+fn)\n",
        "    spec = tn/(tn+fp)\n",
        "\n",
        "    print(i)\n",
        "    print('Sensitivity: '+ str(sens))\n",
        "    print('Specificity: ' +str(spec))\n",
        "    print()"
      ],
      "execution_count": 0,
      "outputs": []
    },
    {
      "cell_type": "markdown",
      "metadata": {
        "id": "u5NXnoOXl9XN",
        "colab_type": "text"
      },
      "source": [
        "### Statement on algorithmic limitations:\n",
        "\n",
        "The results above indicate that the presence of infiltrations in a chest x-ray is a limitation of this algorithm, and that the algorithm performs very poorly on the accurate detection of pneumonia in the presence of infiltration. The presence of nodules and pneumothorax have a slight impact on the algorithm's sensitivity and may reduce the ability to detect pneumonia, while the presence of effusion has a slight impact on specificity and may increase the number of false positive pneumonia classifications."
      ]
    },
    {
      "cell_type": "code",
      "metadata": {
        "id": "62HcSH5yl9XN",
        "colab_type": "code",
        "colab": {}
      },
      "source": [
        ""
      ],
      "execution_count": 0,
      "outputs": []
    }
  ]
}