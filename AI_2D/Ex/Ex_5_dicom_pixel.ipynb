{
  "nbformat": 4,
  "nbformat_minor": 0,
  "metadata": {
    "kernelspec": {
      "display_name": "Python 3",
      "language": "python",
      "name": "python3"
    },
    "language_info": {
      "codemirror_mode": {
        "name": "ipython",
        "version": 3
      },
      "file_extension": ".py",
      "mimetype": "text/x-python",
      "name": "python",
      "nbconvert_exporter": "python",
      "pygments_lexer": "ipython3",
      "version": "3.7.6"
    },
    "colab": {
      "name": "Ex_5_dicom_pixel.ipynb",
      "provenance": [],
      "collapsed_sections": [],
      "include_colab_link": true
    }
  },
  "cells": [
    {
      "cell_type": "markdown",
      "metadata": {
        "id": "view-in-github",
        "colab_type": "text"
      },
      "source": [
        "<a href=\"https://colab.research.google.com/github/anhle/AI-Healthcare/blob/master/AI_2D/Ex/Ex_5_dicom_pixel.ipynb\" target=\"_parent\"><img src=\"https://colab.research.google.com/assets/colab-badge.svg\" alt=\"Open In Colab\"/></a>"
      ]
    },
    {
      "cell_type": "code",
      "metadata": {
        "id": "AYxjCzB8q6Qm",
        "colab_type": "code",
        "colab": {}
      },
      "source": [
        "pip install pydicom"
      ],
      "execution_count": 0,
      "outputs": []
    },
    {
      "cell_type": "code",
      "metadata": {
        "id": "qhz8jXGcqm8p",
        "colab_type": "code",
        "colab": {}
      },
      "source": [
        "%matplotlib notebook\n",
        "import pandas as pd\n",
        "import numpy as np\n",
        "import pydicom\n",
        "import skimage\n",
        "import matplotlib.pyplot as plt\n",
        "%matplotlib inline"
      ],
      "execution_count": 0,
      "outputs": []
    },
    {
      "cell_type": "code",
      "metadata": {
        "id": "cNZq1wlvqtZe",
        "colab_type": "code",
        "colab": {}
      },
      "source": [
        "!git clone https://github.com/anhle/AI-Healthcare.git\n",
        "import os\n",
        "os.chdir('/content/AI-Healthcare/AI_2D/Ex/data')\n",
        "!pwd"
      ],
      "execution_count": 0,
      "outputs": []
    },
    {
      "cell_type": "code",
      "metadata": {
        "id": "9m1ND7BJqm8u",
        "colab_type": "code",
        "colab": {}
      },
      "source": [
        "bbox = pd.read_csv('bounding_boxes.csv')\n",
        "bbox"
      ],
      "execution_count": 0,
      "outputs": []
    },
    {
      "cell_type": "markdown",
      "metadata": {
        "id": "09GP-F7Gqm8x",
        "colab_type": "text"
      },
      "source": [
        "## Step 1: \n",
        "Read the DICOM's pixel_array attribute into a dataframe using the pydicom.dcmread function"
      ]
    },
    {
      "cell_type": "code",
      "metadata": {
        "id": "DpZ8jr-Mqm8x",
        "colab_type": "code",
        "colab": {}
      },
      "source": [
        "dcm = pydicom.dcmread('dicom_00023075_033.dcm')"
      ],
      "execution_count": 0,
      "outputs": []
    },
    {
      "cell_type": "markdown",
      "metadata": {
        "id": "RD8vYE6bqm80",
        "colab_type": "text"
      },
      "source": [
        "## Step 2: \n",
        "Visualize the image using plt.imshow"
      ]
    },
    {
      "cell_type": "code",
      "metadata": {
        "id": "i7v55blfqm80",
        "colab_type": "code",
        "colab": {}
      },
      "source": [
        "plt.imshow(dcm.pixel_array,cmap='gray')"
      ],
      "execution_count": 0,
      "outputs": []
    },
    {
      "cell_type": "markdown",
      "metadata": {
        "id": "TYhhtPh8qm85",
        "colab_type": "text"
      },
      "source": [
        "## Step 3: \n",
        "plot a histogram of the image pixel intensity values"
      ]
    },
    {
      "cell_type": "code",
      "metadata": {
        "scrolled": false,
        "id": "37Ox_BZMqm85",
        "colab_type": "code",
        "colab": {}
      },
      "source": [
        "plt.figure(figsize=(5,5))\n",
        "plt.hist(dcm.pixel_array.ravel(), bins = 256)"
      ],
      "execution_count": 0,
      "outputs": []
    },
    {
      "cell_type": "markdown",
      "metadata": {
        "id": "HqHJINVGqm88",
        "colab_type": "text"
      },
      "source": [
        "Note the peak at zero, which are background pixels. This distribution makes it seem like the mean intensity is probably around 140, but let's find out for sure:"
      ]
    },
    {
      "cell_type": "markdown",
      "metadata": {
        "id": "MjZwqb_rqm88",
        "colab_type": "text"
      },
      "source": [
        "## Step 4: \n",
        "Find the mean and std dev intensity values of the image, and standerdize it"
      ]
    },
    {
      "cell_type": "code",
      "metadata": {
        "id": "HLEkUwxUqm89",
        "colab_type": "code",
        "colab": {}
      },
      "source": [
        "mean_intensity = np.mean(dcm.pixel_array)\n",
        "mean_intensity"
      ],
      "execution_count": 0,
      "outputs": []
    },
    {
      "cell_type": "code",
      "metadata": {
        "id": "New9Jhh6qm8_",
        "colab_type": "code",
        "colab": {}
      },
      "source": [
        "std_intensity = np.std(dcm.pixel_array)\n",
        "std_intensity"
      ],
      "execution_count": 0,
      "outputs": []
    },
    {
      "cell_type": "code",
      "metadata": {
        "id": "oy2-TXyqqm9C",
        "colab_type": "code",
        "colab": {}
      },
      "source": [
        "new_img = dcm.pixel_array.copy()\n",
        "new_img = (new_img - mean_intensity)/std_intensity"
      ],
      "execution_count": 0,
      "outputs": []
    },
    {
      "cell_type": "markdown",
      "metadata": {
        "id": "cwDx6Ve1qm9E",
        "colab_type": "text"
      },
      "source": [
        "## Step 5: \n",
        "Re-plot a histogram of the normalized intensity values"
      ]
    },
    {
      "cell_type": "code",
      "metadata": {
        "id": "nkjluiGXqm9E",
        "colab_type": "code",
        "colab": {}
      },
      "source": [
        "plt.figure(figsize=(5,5))\n",
        "plt.hist(new_img.ravel(), bins = 256)"
      ],
      "execution_count": 0,
      "outputs": []
    },
    {
      "cell_type": "markdown",
      "metadata": {
        "id": "GSzfngSrqm9G",
        "colab_type": "text"
      },
      "source": [
        "Notice how the histogram has the same shape, but now it's centered around 0. This is a key step in image pre-processing when we prepare imaging data for machine learning. "
      ]
    },
    {
      "cell_type": "markdown",
      "metadata": {
        "id": "drmRbi04qm9H",
        "colab_type": "text"
      },
      "source": [
        "## Step 6: \n",
        "Use the coordinates in the dataframe that tell the starting x & y values, and the width and height of the mass to plot visualize only the mass using plt.imshow"
      ]
    },
    {
      "cell_type": "code",
      "metadata": {
        "id": "EtF7F7hkqm9H",
        "colab_type": "code",
        "colab": {}
      },
      "source": [
        "bbox"
      ],
      "execution_count": 0,
      "outputs": []
    },
    {
      "cell_type": "code",
      "metadata": {
        "id": "UGUC1nIlqm9K",
        "colab_type": "code",
        "colab": {}
      },
      "source": [
        "plt.imshow(dcm.pixel_array[535:(535+66),240:(240+73)],cmap='gray')"
      ],
      "execution_count": 0,
      "outputs": []
    },
    {
      "cell_type": "markdown",
      "metadata": {
        "id": "uOhTK4lRqm9M",
        "colab_type": "text"
      },
      "source": [
        "## Step 7: \n",
        "Plot a histogram of the normalized intensity values of the mass"
      ]
    },
    {
      "cell_type": "code",
      "metadata": {
        "scrolled": false,
        "id": "rbsa_KFMqm9M",
        "colab_type": "code",
        "colab": {}
      },
      "source": [
        "plt.figure(figsize=(5,5))\n",
        "plt.hist(new_img[535:(535+66),240:(240+73)].ravel(), bins = 256,color='red')\n",
        "plt.show()"
      ],
      "execution_count": 0,
      "outputs": []
    },
    {
      "cell_type": "markdown",
      "metadata": {
        "id": "CQcZCyXwqm9O",
        "colab_type": "text"
      },
      "source": [
        "What does this tell us? It tell us that the intensity values of the mass are higher than the image mean, but mostly fall within a single standard deviation of the image intensity values. This tell us that using some sort of thresholding mechanism to identify tumors in an image would probably _not_ be appropriate, because the mass's intensity values are not _that_ different from the rest of the image. "
      ]
    },
    {
      "cell_type": "code",
      "metadata": {
        "id": "1yGdM0wqqm9P",
        "colab_type": "code",
        "colab": {}
      },
      "source": [
        ""
      ],
      "execution_count": 0,
      "outputs": []
    }
  ]
}