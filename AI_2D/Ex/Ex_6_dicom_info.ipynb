{
  "nbformat": 4,
  "nbformat_minor": 0,
  "metadata": {
    "kernelspec": {
      "display_name": "Python 3",
      "language": "python",
      "name": "python3"
    },
    "language_info": {
      "codemirror_mode": {
        "name": "ipython",
        "version": 3
      },
      "file_extension": ".py",
      "mimetype": "text/x-python",
      "name": "python",
      "nbconvert_exporter": "python",
      "pygments_lexer": "ipython3",
      "version": "3.7.6"
    },
    "colab": {
      "name": "Ex_6_dicom_info.ipynb",
      "provenance": [],
      "collapsed_sections": [],
      "toc_visible": true,
      "include_colab_link": true
    }
  },
  "cells": [
    {
      "cell_type": "markdown",
      "metadata": {
        "id": "view-in-github",
        "colab_type": "text"
      },
      "source": [
        "<a href=\"https://colab.research.google.com/github/anhle/AI-Healthcare/blob/master/AI_2D/Ex/Ex_6_dicom_info.ipynb\" target=\"_parent\"><img src=\"https://colab.research.google.com/assets/colab-badge.svg\" alt=\"Open In Colab\"/></a>"
      ]
    },
    {
      "cell_type": "markdown",
      "metadata": {
        "id": "R6NKuZUJvCUG",
        "colab_type": "text"
      },
      "source": [
        "**Prepare DICOM Images for ML Exercise**\n",
        "\n",
        "In this exercise, you'll receive a small set of seven DICOM images. Here, rather than extracting the image itself from the DICOM file, we'll be extracting other attributes that tell us about the image and the patient who is represented in it.\n",
        "\n",
        "To complete this exercise, create a single dataframe that has the following columns:\n",
        "\n",
        "* Patient ID\n",
        "* Patient Age (as an integer)\n",
        "* Patient Sex (M/F)\n",
        "* Imaging Modality\n",
        "* Type of finding in the image\n",
        "* Number of rows in the image\n",
        "* Number of columns in the image\n",
        "* Print the contents of this dataframe.\n",
        "\n",
        "Note: When you see an attribute listed like \"Patient's Age\" for a DICOM, this can usually be extracted with pydicom by removing the spaces and special characters, like dcm.PatientAge"
      ]
    },
    {
      "cell_type": "code",
      "metadata": {
        "id": "JTGecUgoueJH",
        "colab_type": "code",
        "colab": {}
      },
      "source": [
        "pip install pydicom"
      ],
      "execution_count": 0,
      "outputs": []
    },
    {
      "cell_type": "code",
      "metadata": {
        "id": "cexZIM20uYkT",
        "colab_type": "code",
        "colab": {}
      },
      "source": [
        "import pandas as pd\n",
        "import numpy as np\n",
        "import pydicom\n",
        "import glob"
      ],
      "execution_count": 0,
      "outputs": []
    },
    {
      "cell_type": "code",
      "metadata": {
        "id": "U_RL806UuyGV",
        "colab_type": "code",
        "colab": {}
      },
      "source": [
        "!git clone https://github.com/anhle/AI-Healthcare.git\n",
        "import os\n",
        "os.chdir('/content/AI-Healthcare/AI_2D/Ex/data')\n",
        "!pwd"
      ],
      "execution_count": 0,
      "outputs": []
    },
    {
      "cell_type": "code",
      "metadata": {
        "id": "TDKkfhQcuYkW",
        "colab_type": "code",
        "colab": {}
      },
      "source": [
        "## First, read all of my DICOM files into a list\n",
        "mydicoms = glob.glob(\"*.dcm\")"
      ],
      "execution_count": 0,
      "outputs": []
    },
    {
      "cell_type": "markdown",
      "metadata": {
        "id": "pR2Uzrr_uYkZ",
        "colab_type": "text"
      },
      "source": [
        "### Let's look at the contents of the first DICOM:"
      ]
    },
    {
      "cell_type": "code",
      "metadata": {
        "id": "hsXn7Kl5uYka",
        "colab_type": "code",
        "colab": {}
      },
      "source": [
        "dcm1 = pydicom.dcmread(mydicoms[0])"
      ],
      "execution_count": 0,
      "outputs": []
    },
    {
      "cell_type": "code",
      "metadata": {
        "id": "yPz3h8_ruYkd",
        "colab_type": "code",
        "colab": {}
      },
      "source": [
        "dcm1"
      ],
      "execution_count": 0,
      "outputs": []
    },
    {
      "cell_type": "markdown",
      "metadata": {
        "id": "K8GgbrNZuYkf",
        "colab_type": "text"
      },
      "source": [
        "Looking at the attributes listed above, I can see that I'm looking to extract the following attributes: \n",
        "* Modality\n",
        "* Study Description\n",
        "* Patient ID\n",
        "* Patient's Sex\n",
        "* Patient's Age\n",
        "* Rows\n",
        "* Columns"
      ]
    },
    {
      "cell_type": "code",
      "metadata": {
        "id": "1_n8vQHcuYkg",
        "colab_type": "code",
        "colab": {}
      },
      "source": [
        "dcm1.Modality"
      ],
      "execution_count": 0,
      "outputs": []
    },
    {
      "cell_type": "code",
      "metadata": {
        "id": "5mcIK59buYki",
        "colab_type": "code",
        "colab": {}
      },
      "source": [
        "dcm1.StudyDescription"
      ],
      "execution_count": 0,
      "outputs": []
    },
    {
      "cell_type": "code",
      "metadata": {
        "id": "EmQDbKeHuYkk",
        "colab_type": "code",
        "colab": {}
      },
      "source": [
        "dcm1.PatientID"
      ],
      "execution_count": 0,
      "outputs": []
    },
    {
      "cell_type": "code",
      "metadata": {
        "id": "OhO-5bLIuYkn",
        "colab_type": "code",
        "colab": {}
      },
      "source": [
        "dcm1.PatientSex"
      ],
      "execution_count": 0,
      "outputs": []
    },
    {
      "cell_type": "code",
      "metadata": {
        "id": "4cat104JuYkp",
        "colab_type": "code",
        "colab": {}
      },
      "source": [
        "dcm1.PatientAge"
      ],
      "execution_count": 0,
      "outputs": []
    },
    {
      "cell_type": "code",
      "metadata": {
        "id": "1tep6lWduYkr",
        "colab_type": "code",
        "colab": {}
      },
      "source": [
        "dcm1.Rows"
      ],
      "execution_count": 0,
      "outputs": []
    },
    {
      "cell_type": "code",
      "metadata": {
        "id": "Wz2yqEf_uYkt",
        "colab_type": "code",
        "colab": {}
      },
      "source": [
        "dcm1.Columns"
      ],
      "execution_count": 0,
      "outputs": []
    },
    {
      "cell_type": "markdown",
      "metadata": {
        "id": "qi4ewqDWuYkw",
        "colab_type": "text"
      },
      "source": [
        "## Now, let's create the dataframe that we want, and populate it in a loop with all of our DICOMS:"
      ]
    },
    {
      "cell_type": "code",
      "metadata": {
        "id": "cnMo6DwCuYkx",
        "colab_type": "code",
        "colab": {}
      },
      "source": [
        "all_data = []\n",
        "\n",
        "for i in mydicoms: \n",
        "    dcm = pydicom.dcmread(i)\n",
        "    fields = [dcm.PatientID, int(dcm.PatientAge), dcm.PatientSex, dcm.Modality, dcm.StudyDescription,\n",
        "             dcm.Rows, dcm.Columns]\n",
        "    all_data.append(fields)"
      ],
      "execution_count": 0,
      "outputs": []
    },
    {
      "cell_type": "code",
      "metadata": {
        "id": "6ZFHtc4AuYk1",
        "colab_type": "code",
        "colab": {}
      },
      "source": [
        "mydata = pd.DataFrame(all_data, \n",
        "                      columns = ['PatientID','PatientAge','PatientSex','Modality','Findings','Rows','Columns'])"
      ],
      "execution_count": 0,
      "outputs": []
    },
    {
      "cell_type": "code",
      "metadata": {
        "id": "5zjFfwXOuYk3",
        "colab_type": "code",
        "colab": {}
      },
      "source": [
        "mydata"
      ],
      "execution_count": 0,
      "outputs": []
    },
    {
      "cell_type": "code",
      "metadata": {
        "id": "Nn2FI1eGuYk5",
        "colab_type": "code",
        "colab": {}
      },
      "source": [
        ""
      ],
      "execution_count": 0,
      "outputs": []
    }
  ]
}