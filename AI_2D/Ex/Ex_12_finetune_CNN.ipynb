{
  "nbformat": 4,
  "nbformat_minor": 0,
  "metadata": {
    "kernelspec": {
      "display_name": "Python 3",
      "language": "python",
      "name": "python3"
    },
    "language_info": {
      "codemirror_mode": {
        "name": "ipython",
        "version": 3
      },
      "file_extension": ".py",
      "mimetype": "text/x-python",
      "name": "python",
      "nbconvert_exporter": "python",
      "pygments_lexer": "ipython3",
      "version": "3.7.6"
    },
    "colab": {
      "name": "Ex_12_finetune_CNN.ipynb",
      "provenance": [],
      "private_outputs": true,
      "toc_visible": true,
      "include_colab_link": true
    },
    "accelerator": "GPU"
  },
  "cells": [
    {
      "cell_type": "markdown",
      "metadata": {
        "id": "view-in-github",
        "colab_type": "text"
      },
      "source": [
        "<a href=\"https://colab.research.google.com/github/anhle/AI-Healthcare/blob/master/AI_2D/Ex/Ex_12_finetune_CNN.ipynb\" target=\"_parent\"><img src=\"https://colab.research.google.com/assets/colab-badge.svg\" alt=\"Open In Colab\"/></a>"
      ]
    },
    {
      "cell_type": "markdown",
      "metadata": {
        "id": "OVMkcMRaa3ho",
        "colab_type": "text"
      },
      "source": [
        "**Fine-tuning CNNs for Classification** \n",
        "\n",
        "In this exercise, we'll focus on how to take an existing CNN architecture with weights that have been optimized for a general image classification task, and fine-tune it for a specific medical imaging task.\n",
        "\n",
        "We'll work with the VGG16 architecture, using weights that have been trained in ImageNet. We'll walk through three different ways to use its architecture and fine-tune it to be used for classification of dense vs. fatty breast tissue on mammogram images.\n",
        "\n",
        "The three scenarios for you to try are the following:\n",
        "\n",
        "1. Freeze all layers except for the final convolutional layer of VGG16\n",
        "2. Freeze all layers except the final convolutional layer of VGG16, and add several dense (fully connected) layers\n",
        "3. Freeze all layers except the final convolutional layer of VGG16, and add several dense (fully connected) layers with dropout\n",
        "\n",
        "*Note*: the purpose of this exercise is not to get great performance. We are not providing you nearly enough training and testing data for that. The purpose of this exercise is to get familiar with different ways to fine-tune existing architectures. To that end, just run each model architecture for 5 epochs or so with the small amount of training and validation data."
      ]
    },
    {
      "cell_type": "code",
      "metadata": {
        "id": "I7YAC9t0ZZK6",
        "colab_type": "code",
        "colab": {}
      },
      "source": [
        "import numpy as np \n",
        "import pandas as pd \n",
        "import os\n",
        "from glob import glob\n",
        "%matplotlib inline\n",
        "import matplotlib.pyplot as plt\n",
        "import tensorflow as tf\n",
        "from skimage import io\n",
        "\n",
        "from keras.preprocessing.image import ImageDataGenerator\n",
        "from keras.layers import GlobalAveragePooling2D, Dense, Dropout, Flatten, Conv2D, MaxPooling2D\n",
        "from keras.models import Sequential, Model\n",
        "from keras.applications.vgg16 import VGG16\n",
        "from keras.applications.resnet import ResNet50 \n",
        "from keras.optimizers import Adam\n",
        "from keras.callbacks import ModelCheckpoint, LearningRateScheduler, EarlyStopping, ReduceLROnPlateau"
      ],
      "execution_count": 0,
      "outputs": []
    },
    {
      "cell_type": "code",
      "metadata": {
        "id": "-FUvgdR6ZqTq",
        "colab_type": "code",
        "colab": {}
      },
      "source": [
        "!git clone https://github.com/anhle/AI-Healthcare.git"
      ],
      "execution_count": 0,
      "outputs": []
    },
    {
      "cell_type": "code",
      "metadata": {
        "id": "36UFPFmFZZK-",
        "colab_type": "code",
        "colab": {}
      },
      "source": [
        "import os\n",
        "dir = '/content/AI-Healthcare/AI_2D/Ex/data'\n",
        "train_df = pd.read_csv(os.path.join(dir,'train.csv'))\n",
        "valid_df = pd.read_csv(os.path.join(dir,'test.csv'))\n",
        "\n",
        "train_df['img_path_full'] = '/content/AI-Healthcare/AI_2D/Ex/data/images/' + train_df['img_path']\n",
        "valid_df['img_path_full'] = '/content/AI-Healthcare/AI_2D/Ex/data/images/' + valid_df['img_path']\n",
        "train_df.head()"
      ],
      "execution_count": 0,
      "outputs": []
    },
    {
      "cell_type": "markdown",
      "metadata": {
        "id": "rHaxQz31ZZLA",
        "colab_type": "text"
      },
      "source": [
        "## Setting up the image augmentation from last Lesson: "
      ]
    },
    {
      "cell_type": "code",
      "metadata": {
        "id": "Kb6QfE_KZZLB",
        "colab_type": "code",
        "colab": {}
      },
      "source": [
        "IMG_SIZE = (224, 224)"
      ],
      "execution_count": 0,
      "outputs": []
    },
    {
      "cell_type": "code",
      "metadata": {
        "id": "PNRoNNW1ZZLD",
        "colab_type": "code",
        "colab": {}
      },
      "source": [
        "train_idg = ImageDataGenerator(rescale=1. / 255.0,\n",
        "                              horizontal_flip = True, \n",
        "                              vertical_flip = False, \n",
        "                              height_shift_range= 0.1, \n",
        "                              width_shift_range=0.1, \n",
        "                              rotation_range=20, \n",
        "                              shear_range = 0.1,\n",
        "                              zoom_range=0.1)\n",
        "\n",
        "train_gen = train_idg.flow_from_dataframe(dataframe=train_df, \n",
        "                                         directory=None, \n",
        "                                         x_col = 'img_path_full',\n",
        "                                         y_col = 'class',\n",
        "                                         class_mode = 'binary',\n",
        "                                         target_size = IMG_SIZE, \n",
        "                                         batch_size = 9\n",
        "                                         )\n",
        "\n",
        "# Note that the validation data should not be augmented! We only want to do some basic intensity rescaling here\n",
        "val_idg = ImageDataGenerator(rescale=1. / 255.0\n",
        "                                 )\n",
        "\n",
        "val_gen = val_idg.flow_from_dataframe(dataframe=valid_df, \n",
        "                                         directory=None, \n",
        "                                         x_col = 'img_path_full',\n",
        "                                         y_col = 'class',\n",
        "                                         class_mode = 'binary',\n",
        "                                         target_size = IMG_SIZE, \n",
        "                                         batch_size = 6) ## We've only been provided with 6 validation images"
      ],
      "execution_count": 0,
      "outputs": []
    },
    {
      "cell_type": "code",
      "metadata": {
        "id": "gdAI-jbaZZLG",
        "colab_type": "code",
        "colab": {}
      },
      "source": [
        "## Pull a single large batch of random validation data for testing after each epoch\n",
        "testX, testY = val_gen.next()"
      ],
      "execution_count": 0,
      "outputs": []
    },
    {
      "cell_type": "markdown",
      "metadata": {
        "id": "zOf8ef0hZZLI",
        "colab_type": "text"
      },
      "source": [
        "## Now we'll load in VGG16 with pre-trained ImageNet weights: "
      ]
    },
    {
      "cell_type": "code",
      "metadata": {
        "id": "UUYhglZMZZLJ",
        "colab_type": "code",
        "colab": {}
      },
      "source": [
        "model = VGG16(include_top=True, weights='imagenet')\n",
        "model.summary()"
      ],
      "execution_count": 0,
      "outputs": []
    },
    {
      "cell_type": "code",
      "metadata": {
        "id": "NBf4sBiKZZLL",
        "colab_type": "code",
        "colab": {}
      },
      "source": [
        "transfer_layer = model.get_layer('block5_pool')\n",
        "vgg_model = Model(inputs=model.input,\n",
        "                   outputs=transfer_layer.output)"
      ],
      "execution_count": 0,
      "outputs": []
    },
    {
      "cell_type": "code",
      "metadata": {
        "id": "k511mdzZZZLO",
        "colab_type": "code",
        "colab": {}
      },
      "source": [
        "## Now, choose which layers of VGG16 we actually want to fine-tune (if any)\n",
        "## Here, we'll freeze all but the last convolutional layer\n",
        "## Add some code here to freeze all but the last convolutional layer:\n",
        "##### Your code here ######\n",
        "for layer in vgg_model.layers[0:17]:\n",
        "    layer.trainable = False"
      ],
      "execution_count": 0,
      "outputs": []
    },
    {
      "cell_type": "code",
      "metadata": {
        "id": "lDlfgpoxZZLR",
        "colab_type": "code",
        "colab": {}
      },
      "source": [
        "for layer in vgg_model.layers:\n",
        "    print(layer.name, layer.trainable)"
      ],
      "execution_count": 0,
      "outputs": []
    },
    {
      "cell_type": "markdown",
      "metadata": {
        "id": "1OuPR5UBb4ih",
        "colab_type": "text"
      },
      "source": [
        "##Build a simple sequential model using only the VGG16 architecture"
      ]
    },
    {
      "cell_type": "code",
      "metadata": {
        "id": "Mq-uRibNZZLT",
        "colab_type": "code",
        "colab": {}
      },
      "source": [
        "new_model = Sequential()\n",
        "\n",
        "# Add the convolutional part of the VGG16 model from above.\n",
        "new_model.add(vgg_model)\n",
        "\n",
        "# Flatten the output of the VGG16 model because it is from a\n",
        "# convolutional layer.\n",
        "new_model.add(Flatten())\n",
        "\n",
        "# Add a dense (aka. fully-connected) layer.\n",
        "# This is for combining features that the VGG16 model has\n",
        "# recognized in the image.\n",
        "new_model.add(Dense(1, activation='sigmoid'))"
      ],
      "execution_count": 0,
      "outputs": []
    },
    {
      "cell_type": "code",
      "metadata": {
        "id": "IIhdcktqZZLV",
        "colab_type": "code",
        "colab": {}
      },
      "source": [
        "## Set our optimizer, loss function, and learning rate\n",
        "optimizer = Adam(lr=1e-4)\n",
        "loss = 'binary_crossentropy'\n",
        "metrics = ['binary_accuracy']"
      ],
      "execution_count": 0,
      "outputs": []
    },
    {
      "cell_type": "code",
      "metadata": {
        "id": "Hr1YgId7ZZLX",
        "colab_type": "code",
        "colab": {}
      },
      "source": [
        "new_model.compile(optimizer=optimizer, loss=loss, metrics=metrics)"
      ],
      "execution_count": 0,
      "outputs": []
    },
    {
      "cell_type": "code",
      "metadata": {
        "id": "_4z9nVV7ZZLa",
        "colab_type": "code",
        "colab": {}
      },
      "source": [
        "## Just run a single epoch to see how it does:\n",
        "new_model.fit_generator(train_gen, \n",
        "                                  validation_data = (testX, testY), \n",
        "                                  epochs = 5)"
      ],
      "execution_count": 0,
      "outputs": []
    },
    {
      "cell_type": "markdown",
      "metadata": {
        "id": "F6VRsBAuZZLc",
        "colab_type": "text"
      },
      "source": [
        "## Let's try another experiment where we add a few more dense layers:"
      ]
    },
    {
      "cell_type": "code",
      "metadata": {
        "id": "Oo25EgLGZZLc",
        "colab_type": "code",
        "colab": {}
      },
      "source": [
        "new_model = Sequential()\n",
        "\n",
        "# Add the convolutional part of the VGG16 model from above.\n",
        "new_model.add(vgg_model)\n",
        "\n",
        "# Flatten the output of the VGG16 model because it is from a\n",
        "# convolutional layer.\n",
        "new_model.add(Flatten())\n",
        "\n",
        "# Add a dense (aka. fully-connected) layer.\n",
        "# This is for combining features that the VGG16 model has\n",
        "# recognized in the image.\n",
        "new_model.add(Dense(1024, activation='relu'))\n",
        "\n",
        "# Add a dense (aka. fully-connected) layer.\n",
        "# This is for combining features that the VGG16 model has\n",
        "# recognized in the image.\n",
        "new_model.add(Dense(512, activation='relu'))\n",
        "\n",
        "# Add a dense (aka. fully-connected) layer.\n",
        "# Change the activation function to sigmoid \n",
        "# so output of the last layer is in the range of [0,1] \n",
        "new_model.add(Dense(1, activation='sigmoid'))"
      ],
      "execution_count": 0,
      "outputs": []
    },
    {
      "cell_type": "code",
      "metadata": {
        "id": "oDq_-_5aZZLf",
        "colab_type": "code",
        "colab": {}
      },
      "source": [
        "new_model.compile(optimizer=optimizer, loss=loss, metrics=metrics)"
      ],
      "execution_count": 0,
      "outputs": []
    },
    {
      "cell_type": "code",
      "metadata": {
        "id": "vm2YxVDsZZLh",
        "colab_type": "code",
        "colab": {}
      },
      "source": [
        "## Just run a single epoch to see how it does:\n",
        "new_model.fit_generator(train_gen, \n",
        "                                  validation_data = (testX, testY), \n",
        "                                  epochs = 5)"
      ],
      "execution_count": 0,
      "outputs": []
    },
    {
      "cell_type": "markdown",
      "metadata": {
        "id": "FEdoUo2WZZLj",
        "colab_type": "text"
      },
      "source": [
        "## Now let's add dropout and another fully connected layer:"
      ]
    },
    {
      "cell_type": "code",
      "metadata": {
        "id": "93ReQUL4ZZLj",
        "colab_type": "code",
        "colab": {}
      },
      "source": [
        "new_model = Sequential()\n",
        "\n",
        "# Add the convolutional part of the VGG16 model from above.\n",
        "new_model.add(vgg_model)\n",
        "\n",
        "# Flatten the output of the VGG16 model because it is from a\n",
        "# convolutional layer.\n",
        "new_model.add(Flatten())\n",
        "\n",
        "# Add a dropout-layer which may prevent overfitting and\n",
        "# improve generalization ability to unseen data e.g. the test-set.\n",
        "new_model.add(Dropout(0.5))\n",
        "\n",
        "# Add a dense (aka. fully-connected) layer.\n",
        "# This is for combining features that the VGG16 model has\n",
        "# recognized in the image.\n",
        "new_model.add(Dense(1024, activation='relu'))\n",
        "\n",
        "# Add a dropout-layer which may prevent overfitting and\n",
        "# improve generalization ability to unseen data e.g. the test-set.\n",
        "new_model.add(Dropout(0.5))\n",
        "\n",
        "# Add a dense (aka. fully-connected) layer.\n",
        "# This is for combining features that the VGG16 model has\n",
        "# recognized in the image.\n",
        "new_model.add(Dense(512, activation='relu'))\n",
        "\n",
        "# Add a dropout-layer which may prevent overfitting and\n",
        "# improve generalization ability to unseen data e.g. the test-set.\n",
        "new_model.add(Dropout(0.5))\n",
        "\n",
        "# Add a dense (aka. fully-connected) layer.\n",
        "# This is for combining features that the VGG16 model has\n",
        "# recognized in the image.\n",
        "new_model.add(Dense(256, activation='relu'))\n",
        "\n",
        "# Add a dense (aka. fully-connected) layer.\n",
        "# Change the activation function to sigmoid \n",
        "# so output of the last layer is in the range of [0,1] \n",
        "new_model.add(Dense(1, activation='sigmoid'))"
      ],
      "execution_count": 0,
      "outputs": []
    },
    {
      "cell_type": "code",
      "metadata": {
        "id": "vtwkjUglZZLl",
        "colab_type": "code",
        "colab": {}
      },
      "source": [
        "new_model.compile(optimizer=optimizer, loss=loss, metrics=metrics)"
      ],
      "execution_count": 0,
      "outputs": []
    },
    {
      "cell_type": "code",
      "metadata": {
        "id": "dHFvmMIMZZLn",
        "colab_type": "code",
        "colab": {}
      },
      "source": [
        "## Just run a single epoch to see how it does:\n",
        "new_model.fit_generator(train_gen, \n",
        "                                  validation_data = (testX, testY), \n",
        "                                  epochs = 5)"
      ],
      "execution_count": 0,
      "outputs": []
    },
    {
      "cell_type": "markdown",
      "metadata": {
        "id": "KF7Bo142ZZLp",
        "colab_type": "text"
      },
      "source": [
        "What's interesting about the small number of epochs we ran on the three different architectures above is that the simplest archiecture seemed to show the fastest learning. Why might that be? \n",
        "\n",
        "Answer: there were the fewest parameters to train because we didn't add any fully-connected layers, and were only fine-tuning the last layer of VGG16. \n",
        "\n",
        "The last architecture we tried seemed to show more stable and promise than the second, and this is likely due to the fact that we added Dropout. This helps our model from overfitting and usually using Dropout, we see better learning on the validation set (val_loss going down over epochs as opposed to only the training loss). "
      ]
    },
    {
      "cell_type": "code",
      "metadata": {
        "id": "LeqJ2lwIZZLp",
        "colab_type": "code",
        "colab": {}
      },
      "source": [
        ""
      ],
      "execution_count": 0,
      "outputs": []
    }
  ]
}