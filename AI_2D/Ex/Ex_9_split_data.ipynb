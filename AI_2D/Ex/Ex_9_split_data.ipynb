{
  "nbformat": 4,
  "nbformat_minor": 0,
  "metadata": {
    "kernelspec": {
      "display_name": "Python 3",
      "language": "python",
      "name": "python3"
    },
    "language_info": {
      "codemirror_mode": {
        "name": "ipython",
        "version": 3
      },
      "file_extension": ".py",
      "mimetype": "text/x-python",
      "name": "python",
      "nbconvert_exporter": "python",
      "pygments_lexer": "ipython3",
      "version": "3.7.6"
    },
    "colab": {
      "name": "Ex_9_split_data.ipynb",
      "provenance": [],
      "include_colab_link": true
    }
  },
  "cells": [
    {
      "cell_type": "markdown",
      "metadata": {
        "id": "view-in-github",
        "colab_type": "text"
      },
      "source": [
        "<a href=\"https://colab.research.google.com/github/anhle/AI-Healthcare/blob/master/AI_2D/Ex/Ex_9_split_data.ipynb\" target=\"_parent\"><img src=\"https://colab.research.google.com/assets/colab-badge.svg\" alt=\"Open In Colab\"/></a>"
      ]
    },
    {
      "cell_type": "markdown",
      "metadata": {
        "id": "YO_nS9_kZjn5",
        "colab_type": "text"
      },
      "source": [
        "You're given a dataframe with image labels for 5,000 chest x-rays. Your goal is to prepare a training and a validation dataset for an algorithm that predicts the presence of a Pneumothorax (collapsed lung). Remember, we want our model to see an equal amount of positive and negative cases when it's training, but when we evaluate its performance, we should be looking at a class balance or imbalance that is more reflective of the real world. In this exercise,\n",
        "\n",
        "You will notice that Pneumothorax isn't a very common finding in this dataset, so you'll want to maximize your data so that you can use all of the true Pneumothorax cases in training. Given the large class imbalances, however, you may end up throwing away images that don't contain Pneumothorax.\n",
        "\n",
        "Here's an assumption you can make when creating your validation set: Despite the large imbalance of Pneumothorax in this dataset, in the actual clinical setting where you want to deploy your algorithm, the prevalence of Pneumothorax will be about 20%. This is because patients are only being x-rayed based on their clinical symptoms that make Pneumothorax highly likely."
      ]
    },
    {
      "cell_type": "code",
      "metadata": {
        "id": "rFOwcH6GZSPd",
        "colab_type": "code",
        "colab": {}
      },
      "source": [
        "%matplotlib inline\n",
        "\n",
        "import pandas as pd\n",
        "import numpy as np\n",
        "import matplotlib.pyplot as plt\n",
        "import seaborn as sns\n",
        "from random import sample\n",
        "\n",
        "from itertools import chain\n",
        "from random import sample \n",
        "import scipy\n",
        "\n",
        "import sklearn.model_selection as skl"
      ],
      "execution_count": 0,
      "outputs": []
    },
    {
      "cell_type": "markdown",
      "metadata": {
        "id": "XOzAhYkqZSPh",
        "colab_type": "text"
      },
      "source": [
        "## First read in the dataframe. You'll notice it's similar to the dataframe that you ended the final solution with in Lesson 2, Exercise 4, only with more data:"
      ]
    },
    {
      "cell_type": "code",
      "metadata": {
        "id": "JH55_r3CZSPh",
        "colab_type": "code",
        "colab": {}
      },
      "source": [
        "d = pd.read_csv('https://raw.githubusercontent.com/anhle/AI-Healthcare/master/AI_2D/Ex/data/findings_data_5000.csv')\n",
        "d.head()"
      ],
      "execution_count": 0,
      "outputs": []
    },
    {
      "cell_type": "markdown",
      "metadata": {
        "id": "ml87bE5jZSPk",
        "colab_type": "text"
      },
      "source": [
        "## Just like in Lesson 2, Exercise 4, we want to see how different diseases are distributed with our disease of interest, as well as how age and gender are distributed:"
      ]
    },
    {
      "cell_type": "code",
      "metadata": {
        "id": "alSrOirBZSPk",
        "colab_type": "code",
        "colab": {}
      },
      "source": [
        "all_labels = np.unique(list(chain(*d['Finding Labels'].map(lambda x: x.split('|')).tolist())))\n",
        "all_labels = [x for x in all_labels if len(x)>0]\n",
        "all_labels"
      ],
      "execution_count": 0,
      "outputs": []
    },
    {
      "cell_type": "code",
      "metadata": {
        "id": "ppdmm8PUaOQK",
        "colab_type": "code",
        "colab": {}
      },
      "source": [
        "d[all_labels].sum()"
      ],
      "execution_count": 0,
      "outputs": []
    },
    {
      "cell_type": "code",
      "metadata": {
        "id": "Q1B_y8-aZSPn",
        "colab_type": "code",
        "colab": {}
      },
      "source": [
        "ax = d[all_labels].sum().plot(kind='bar')\n",
        "ax.set(ylabel = 'Number of Images with Label')"
      ],
      "execution_count": 0,
      "outputs": []
    },
    {
      "cell_type": "code",
      "metadata": {
        "id": "OkmTUG8cZSPp",
        "colab_type": "code",
        "colab": {}
      },
      "source": [
        "##Since there are many combinations of potential findings, I'm going to look at the 30 most common co-occurrences:\n",
        "plt.figure(figsize=(16,6))\n",
        "d[d.Pneumothorax==1]['Finding Labels'].value_counts()[0:30].plot(kind='bar')"
      ],
      "execution_count": 0,
      "outputs": []
    },
    {
      "cell_type": "code",
      "metadata": {
        "id": "PzV1-HWvZSPr",
        "colab_type": "code",
        "colab": {}
      },
      "source": [
        "##Since there are many combinations of potential findings, I'm going to look at the 30 most common co-occurrences:\n",
        "plt.figure(figsize=(6,6))\n",
        "d[d.Pneumothorax ==1]['Patient Gender'].value_counts().plot(kind='bar')"
      ],
      "execution_count": 0,
      "outputs": []
    },
    {
      "cell_type": "code",
      "metadata": {
        "id": "7eodbuDoZSPt",
        "colab_type": "code",
        "colab": {}
      },
      "source": [
        "plt.figure(figsize=(10,6))\n",
        "plt.hist(d[d.Pneumothorax==1]['Patient Age'])"
      ],
      "execution_count": 0,
      "outputs": []
    },
    {
      "cell_type": "markdown",
      "metadata": {
        "id": "1slVQ96mZSPx",
        "colab_type": "text"
      },
      "source": [
        "## Now, knowing what we know from above, let's create the appropriate training and validation sets for a model that we want to train to classify the presence of a Pneumothorax"
      ]
    },
    {
      "cell_type": "code",
      "metadata": {
        "id": "GowUnXzrZSPx",
        "colab_type": "code",
        "colab": {}
      },
      "source": [
        "train_df, valid_df = skl.train_test_split(d, \n",
        "                                   test_size = 0.2, \n",
        "                                   stratify = d['Pneumothorax'])"
      ],
      "execution_count": 0,
      "outputs": []
    },
    {
      "cell_type": "code",
      "metadata": {
        "id": "LxxZ-xKmZSPz",
        "colab_type": "code",
        "colab": {}
      },
      "source": [
        "train_df['Pneumothorax'].sum()/len(train_df)"
      ],
      "execution_count": 0,
      "outputs": []
    },
    {
      "cell_type": "code",
      "metadata": {
        "id": "zzknndQvZSP1",
        "colab_type": "code",
        "colab": {}
      },
      "source": [
        "valid_df['Pneumothorax'].sum()/len(valid_df)"
      ],
      "execution_count": 0,
      "outputs": []
    },
    {
      "cell_type": "markdown",
      "metadata": {
        "id": "pFLlThLhZSP3",
        "colab_type": "text"
      },
      "source": [
        "Great, our train_test_split made sure that we had the same proportions of Pneumothorax in both sets!\n",
        "\n",
        "But.... we know that we want our model to be trained on a set that has _equal_ proportions of pneumothorax and no pneumothorax, so we're going to have to throw away some data:"
      ]
    },
    {
      "cell_type": "code",
      "metadata": {
        "id": "4f6EdxbEZSP4",
        "colab_type": "code",
        "colab": {}
      },
      "source": [
        "p_inds = train_df[train_df.Pneumothorax==1].index.tolist()\n",
        "np_inds = train_df[train_df.Pneumothorax==0].index.tolist()\n",
        "\n",
        "np_sample = sample(np_inds,len(p_inds))\n",
        "train_df = train_df.loc[p_inds + np_sample]"
      ],
      "execution_count": 0,
      "outputs": []
    },
    {
      "cell_type": "code",
      "metadata": {
        "id": "8y07eqM2ZSP6",
        "colab_type": "code",
        "colab": {}
      },
      "source": [
        "train_df['Pneumothorax'].sum()/len(train_df)"
      ],
      "execution_count": 0,
      "outputs": []
    },
    {
      "cell_type": "markdown",
      "metadata": {
        "id": "B3YbO4X6ZSP8",
        "colab_type": "text"
      },
      "source": [
        "Ta-da! We randomly chose a set of non-Pneumothorax images using the sample() function that was the same length as the number of true Pneumothorax cases we had, and then we threw out the rest of the non-Pneumothorax cases. Now our training dataset is balanced 50-50.\n",
        "\n",
        "Finally, we want to make the balance in our validation set more like 20-80 since our exercise told us that the prevalence of Pneumothorax in this clinical situation is about 20%:"
      ]
    },
    {
      "cell_type": "code",
      "metadata": {
        "id": "9_TPUbntZSP9",
        "colab_type": "code",
        "colab": {}
      },
      "source": [
        "p_inds = valid_df[valid_df.Pneumothorax==1].index.tolist()\n",
        "np_inds = valid_df[valid_df.Pneumothorax==0].index.tolist()\n",
        "\n",
        "# The following code pulls a random sample of non-pneumonia data that's 4 times as big as the pneumonia sample.\n",
        "np_sample = sample(np_inds,4*len(p_inds))\n",
        "valid_df = valid_df.loc[p_inds + np_sample]"
      ],
      "execution_count": 0,
      "outputs": []
    },
    {
      "cell_type": "code",
      "metadata": {
        "id": "RUAh4hRGZSP-",
        "colab_type": "code",
        "colab": {}
      },
      "source": [
        "valid_df['Pneumothorax'].sum()/len(valid_df)"
      ],
      "execution_count": 0,
      "outputs": []
    }
  ]
}